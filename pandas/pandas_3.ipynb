{
 "cells": [
  {
   "cell_type": "markdown",
   "metadata": {},
   "source": [
    "### Московский Авиационый Институт \n",
    " #### (НАЦИОНАЛЬНЫЙ ИССЛЕДОВАТЕЛЬСКИЙ УНИВЕРСИТЕТ)\n",
    " #### Лабороторная работа №6\n",
    " #### По дисциплине \"Программирование на Python\"\n",
    " #### На тему \"Работа с библиотекой Pandas\"\n",
    " #### Выполнил студент группы Т12о-101М: Трусова В.Л.\n",
    " #### Работу принял: Поповкин А.В.\n",
    " ##### Дата: 28.11.2020\n",
    " ##### Москва, 2020г."
   ]
  },
  {
   "cell_type": "code",
   "execution_count": 101,
   "metadata": {},
   "outputs": [],
   "source": [
    "import pandas as pd, numpy as np, datetime"
   ]
  },
  {
   "cell_type": "markdown",
   "metadata": {},
   "source": [
    "1. Найти евклидово расстоняие между двумя объектами Series"
   ]
  },
  {
   "cell_type": "code",
   "execution_count": 91,
   "metadata": {},
   "outputs": [],
   "source": [
    "def distance(s1, s2):\n",
    "    return np.sqrt(np.sum((s1 - s2) ** 2))"
   ]
  },
  {
   "cell_type": "code",
   "execution_count": 92,
   "metadata": {},
   "outputs": [],
   "source": [
    "s1 = pd.Series(np.random.randint(low=2, high=10, size=2))\n",
    "s2 = pd.Series(np.random.randint(low=2, high=10, size=2))"
   ]
  },
  {
   "cell_type": "code",
   "execution_count": 93,
   "metadata": {},
   "outputs": [
    {
     "name": "stdout",
     "output_type": "stream",
     "text": [
      "value 1: 2 3 value 2: 8 8\n",
      "7.810249675906654\n"
     ]
    }
   ],
   "source": [
    "print('value 1:', *s1.values,'value 2:', *s2.values)\n",
    "print(distance(s1, s2))"
   ]
  },
  {
   "cell_type": "markdown",
   "metadata": {},
   "source": [
    "2. Найти индексы локальных максимумов в объекте Series"
   ]
  },
  {
   "cell_type": "code",
   "execution_count": 100,
   "metadata": {},
   "outputs": [
    {
     "name": "stdout",
     "output_type": "stream",
     "text": [
      "1\n",
      "3\n",
      "5\n"
     ]
    }
   ],
   "source": [
    "dm = pd.Series([1,5,2,3,-1,8,0])\n",
    "for i in range(len(dm)-1):\n",
    "    if (dm[i]<dm[i+1] & dm[i+1]>dm[i+2]):\n",
    "        print(i+1)"
   ]
  },
  {
   "cell_type": "code",
   "execution_count": 95,
   "metadata": {},
   "outputs": [
    {
     "name": "stdout",
     "output_type": "stream",
     "text": [
      "1 3 5\n"
     ]
    }
   ],
   "source": [
    "df = pd.DataFrame([1,5,2,3,-1,8,0], columns=['data'])\n",
    "df['max'] = df.data[(df.data.shift(1) < df.data) & (df.data.shift(-1) < df.data)]\n",
    "print(*df['max'].dropna().index)"
   ]
  },
  {
   "cell_type": "markdown",
   "metadata": {},
   "source": [
    "3. Заменить пробелы наименее часто встречающимся символов"
   ]
  },
  {
   "cell_type": "code",
   "execution_count": 96,
   "metadata": {},
   "outputs": [
    {
     "data": {
      "text/plain": [
       "'Съешьщжещещёщэтихщмягкихщфранцузскихщбулок'"
      ]
     },
     "execution_count": 96,
     "metadata": {},
     "output_type": "execute_result"
    }
   ],
   "source": [
    "str_ = pd.Series(list('Съешь же ещё этих мягких французских булок'))\n",
    "cnt = str_.value_counts()\n",
    "rare = cnt.dropna().index[-1]\n",
    "''.join(str_.replace(' ', rare))"
   ]
  },
  {
   "cell_type": "markdown",
   "metadata": {},
   "source": [
    "4. Создать объект Series, который содержит в индексах даты выходных дней субботы, а в значениях случайные числа от 1 до 10"
   ]
  },
  {
   "cell_type": "code",
   "execution_count": 108,
   "metadata": {},
   "outputs": [
    {
     "data": {
      "text/plain": [
       "2020-01-04    6\n",
       "2020-01-11    8\n",
       "2020-01-18    7\n",
       "2020-01-25    4\n",
       "2020-02-01    6\n",
       "2020-02-08    8\n",
       "2020-02-15    5\n",
       "2020-02-22    5\n",
       "2020-02-29    9\n",
       "2020-03-07    9\n",
       "Freq: W-SAT, dtype: int32"
      ]
     },
     "execution_count": 108,
     "metadata": {},
     "output_type": "execute_result"
    }
   ],
   "source": [
    "pd.Series(np.random.randint(low=1,high=10, size=10),\n",
    "          pd.date_range('2020-01-01', periods=10, freq='W-SAT'))"
   ]
  },
  {
   "cell_type": "markdown",
   "metadata": {},
   "source": [
    "5. Заполнить пропущенные даты, значением выше (заполненной даты)"
   ]
  },
  {
   "cell_type": "code",
   "execution_count": 117,
   "metadata": {},
   "outputs": [
    {
     "name": "stdout",
     "output_type": "stream",
     "text": [
      "2020-01-01    3.0\n",
      "2020-01-02    3.0\n",
      "2020-01-03    1.0\n",
      "2020-01-04    9.0\n",
      "2020-01-05    9.0\n",
      "2020-01-06    5.0\n",
      "2020-01-07    5.0\n",
      "Freq: D, dtype: float64\n"
     ]
    }
   ],
   "source": [
    "date = pd.Series([3, np.nan, 1, 9, np.nan, 5, np.nan], \n",
    "              index=pd.date_range('2020-01-01', periods=7))\n",
    "print(date.fillna(method='ffill'))"
   ]
  },
  {
   "cell_type": "markdown",
   "metadata": {},
   "source": [
    "6. Вычислить автокорреляцию объекта Series"
   ]
  },
  {
   "cell_type": "code",
   "execution_count": 97,
   "metadata": {},
   "outputs": [
    {
     "data": {
      "text/plain": [
       "-0.5749450419412646"
      ]
     },
     "execution_count": 97,
     "metadata": {},
     "output_type": "execute_result"
    }
   ],
   "source": [
    "sr = pd.Series([34, 5, 13, 32, 4, 15])\n",
    "sr.autocorr() "
   ]
  }
 ],
 "metadata": {
  "kernelspec": {
   "display_name": "Python 3",
   "language": "python",
   "name": "python3"
  },
  "language_info": {
   "codemirror_mode": {
    "name": "ipython",
    "version": 3
   },
   "file_extension": ".py",
   "mimetype": "text/x-python",
   "name": "python",
   "nbconvert_exporter": "python",
   "pygments_lexer": "ipython3",
   "version": "3.8.3"
  }
 },
 "nbformat": 4,
 "nbformat_minor": 4
}
