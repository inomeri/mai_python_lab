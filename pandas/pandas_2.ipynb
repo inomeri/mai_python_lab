{
 "cells": [
  {
   "cell_type": "markdown",
   "metadata": {},
   "source": [
    " ### Московский Авиационый Институт \n",
    " #### (НАЦИОНАЛЬНЫЙ ИССЛЕДОВАТЕЛЬСКИЙ УНИВЕРСИТЕТ)\n",
    " #### Лабороторная работа №5\n",
    " #### По дисциплине \"Программирование на Python\"\n",
    " #### На тему \"Работа с библиотекой Pandas\"\n",
    " #### Выполнил студент группы Т12о-101М: Трусова В.Л.\n",
    " #### Работу принял: Поповкин А.В.\n",
    " ##### Дата: 28.11.2020\n",
    " ##### Москва, 2020г."
   ]
  },
  {
   "cell_type": "code",
   "execution_count": 115,
   "metadata": {},
   "outputs": [],
   "source": [
    "import pandas as pd, numpy as np, datetime, re, sys"
   ]
  },
  {
   "cell_type": "markdown",
   "metadata": {},
   "source": [
    "1. Получить от объекта Series показатели описательной статистики"
   ]
  },
  {
   "cell_type": "code",
   "execution_count": 7,
   "metadata": {},
   "outputs": [
    {
     "data": {
      "text/plain": [
       "count    11.000000\n",
       "mean      5.000000\n",
       "std       3.316625\n",
       "min       0.000000\n",
       "25%       2.500000\n",
       "50%       5.000000\n",
       "75%       7.500000\n",
       "max      10.000000\n",
       "dtype: float64"
      ]
     },
     "execution_count": 7,
     "metadata": {},
     "output_type": "execute_result"
    }
   ],
   "source": [
    "pd.Series(np.arange(11)).describe()"
   ]
  },
  {
   "cell_type": "markdown",
   "metadata": {},
   "source": [
    "2. Узнать частоту уникальных элементов объекта Series (гистограмма)"
   ]
  },
  {
   "cell_type": "code",
   "execution_count": 8,
   "metadata": {},
   "outputs": [
    {
     "data": {
      "text/plain": [
       "b    3\n",
       "a    2\n",
       "c    1\n",
       "dtype: int64"
      ]
     },
     "execution_count": 8,
     "metadata": {},
     "output_type": "execute_result"
    }
   ],
   "source": [
    "data = ['a', 'b', 'b', 'c', 'b', 'a']\n",
    "pd.Series(data).value_counts()"
   ]
  },
  {
   "cell_type": "markdown",
   "metadata": {},
   "source": [
    "3. Заменить все элементы объекта Series на \"Other\", кроме двух наиболее часто встречающихся"
   ]
  },
  {
   "cell_type": "code",
   "execution_count": 51,
   "metadata": {},
   "outputs": [
    {
     "name": "stdout",
     "output_type": "stream",
     "text": [
      "Кoличество повторений:\n",
      " 1    5\n",
      "0    3\n",
      "3    2\n",
      "dtype: int64\n",
      "0        1\n",
      "1        1\n",
      "2        0\n",
      "3    Other\n",
      "4        0\n",
      "5        1\n",
      "6    Other\n",
      "7        0\n",
      "8        1\n",
      "9        1\n",
      "dtype: object\n"
     ]
    }
   ],
   "source": [
    "state = np.random.RandomState(10)\n",
    "s = pd.Series(state.randint(low=0, high=4, size=[10]))\n",
    "print('Кoличество повторений:\\n', s.value_counts())\n",
    "s[~s.isin(s.value_counts().index[:2])] = 'Other'\n",
    "print(s)"
   ]
  },
  {
   "cell_type": "markdown",
   "metadata": {},
   "source": [
    "4. Создать объект Series в индексах дата каждый день 2019 года, в значениях случайное значение"
   ]
  },
  {
   "cell_type": "code",
   "execution_count": 36,
   "metadata": {},
   "outputs": [
    {
     "name": "stdout",
     "output_type": "stream",
     "text": [
      "2019-01-01    0.418679\n",
      "2019-01-02    0.690065\n",
      "2019-01-03    0.094502\n",
      "2019-01-04    0.347106\n",
      "2019-01-05    0.231828\n",
      "                ...   \n",
      "2019-12-27    0.817975\n",
      "2019-12-28    0.221806\n",
      "2019-12-29    0.434544\n",
      "2019-12-30    0.981009\n",
      "2019-12-31    0.514321\n",
      "Freq: D, Length: 365, dtype: float64\n"
     ]
    }
   ],
   "source": [
    "days = pd.date_range(start='2019-01-01', end='2019-12-31') \n",
    "d_series = pd.Series(np.random.rand(len(days)), index=days)\n",
    "print(d_series)"
   ]
  },
  {
   "cell_type": "markdown",
   "metadata": {},
   "source": [
    "    4.1 Найти сумму всех вторников"
   ]
  },
  {
   "cell_type": "code",
   "execution_count": 45,
   "metadata": {},
   "outputs": [
    {
     "name": "stdout",
     "output_type": "stream",
     "text": [
      "Всего вторников: 53\n",
      "Сумма значений: 24.893637611606447\n"
     ]
    }
   ],
   "source": [
    "print(\"Всего вторников:\", d_series[d_series.index.weekday == 1].count())\n",
    "print(\"Сумма значений:\", d_series[d_series.index.weekday == 1].sum())"
   ]
  },
  {
   "cell_type": "markdown",
   "metadata": {},
   "source": [
    "    4.2 Для каждого месяца найти среднее значение"
   ]
  },
  {
   "cell_type": "code",
   "execution_count": 40,
   "metadata": {},
   "outputs": [
    {
     "data": {
      "text/plain": [
       "2019-01-31    0.492335\n",
       "2019-02-28    0.501556\n",
       "2019-03-31    0.543625\n",
       "2019-04-30    0.452893\n",
       "2019-05-31    0.463069\n",
       "2019-06-30    0.500826\n",
       "2019-07-31    0.535050\n",
       "2019-08-31    0.527553\n",
       "2019-09-30    0.445565\n",
       "2019-10-31    0.515015\n",
       "2019-11-30    0.575810\n",
       "2019-12-31    0.519168\n",
       "Freq: M, dtype: float64"
      ]
     },
     "execution_count": 40,
     "metadata": {},
     "output_type": "execute_result"
    }
   ],
   "source": [
    "d_series.resample('M').mean()"
   ]
  },
  {
   "cell_type": "markdown",
   "metadata": {},
   "source": [
    "5. Преобразовать объект Series в DataFrame заданной формы (shape)"
   ]
  },
  {
   "cell_type": "code",
   "execution_count": 67,
   "metadata": {},
   "outputs": [
    {
     "name": "stdout",
     "output_type": "stream",
     "text": [
      "   0  1  2\n",
      "0  0  1  2\n",
      "1  3  4  5\n",
      "2  6  7  0\n",
      "3  1  2  3\n",
      "4  4  5  6\n",
      "5  7  0  1\n"
     ]
    }
   ],
   "source": [
    "ser = pd.DataFrame(range(8))\n",
    "print(pd.DataFrame(np.resize(ser.values, (6, 3))))"
   ]
  },
  {
   "cell_type": "markdown",
   "metadata": {},
   "source": [
    "6. Найти индексы объекта Series кратные 3"
   ]
  },
  {
   "cell_type": "code",
   "execution_count": 7,
   "metadata": {},
   "outputs": [
    {
     "name": "stdout",
     "output_type": "stream",
     "text": [
      "0 3 6 9\n"
     ]
    }
   ],
   "source": [
    "s_num = pd.Series(np.arange(11))\n",
    "print(*s_num[s_num.index % 3 == 0].index)"
   ]
  },
  {
   "cell_type": "markdown",
   "metadata": {},
   "source": [
    "6. Получить данные по индексам объекта Series"
   ]
  },
  {
   "cell_type": "code",
   "execution_count": 54,
   "metadata": {},
   "outputs": [
    {
     "name": "stdout",
     "output_type": "stream",
     "text": [
      "0 2 4 6 8 10\n"
     ]
    }
   ],
   "source": [
    "print(*s_num[s_num.index % 2 == 0].values)"
   ]
  },
  {
   "cell_type": "markdown",
   "metadata": {},
   "source": [
    "7. Объединить два объекта Series вертикально и горизонтально"
   ]
  },
  {
   "cell_type": "code",
   "execution_count": 9,
   "metadata": {},
   "outputs": [
    {
     "name": "stdout",
     "output_type": "stream",
     "text": [
      "0    a\n",
      "1    b\n",
      "2    b\n",
      "3    c\n",
      "4    b\n",
      "5    a\n",
      "dtype: object\n",
      "0      0\n",
      "1      1\n",
      "2      2\n",
      "3      3\n",
      "4      4\n",
      "5      5\n",
      "6      6\n",
      "7      7\n",
      "8      8\n",
      "9      9\n",
      "10    10\n",
      "dtype: int32\n"
     ]
    }
   ],
   "source": [
    "data = pd.Series(data)\n",
    "print(data)\n",
    "print(s_num)"
   ]
  },
  {
   "cell_type": "markdown",
   "metadata": {},
   "source": [
    "    7.1 Вертикально"
   ]
  },
  {
   "cell_type": "code",
   "execution_count": 89,
   "metadata": {},
   "outputs": [
    {
     "name": "stdout",
     "output_type": "stream",
     "text": [
      "0      0\n",
      "1      1\n",
      "2      2\n",
      "3      3\n",
      "4      4\n",
      "5      5\n",
      "6      6\n",
      "7      7\n",
      "8      8\n",
      "9      9\n",
      "10    10\n",
      "0      a\n",
      "1      b\n",
      "2      b\n",
      "3      c\n",
      "4      b\n",
      "5      a\n",
      "dtype: object\n"
     ]
    }
   ],
   "source": [
    "print(s_num.append(data))"
   ]
  },
  {
   "cell_type": "markdown",
   "metadata": {},
   "source": [
    "    7.2 Горизонтально"
   ]
  },
  {
   "cell_type": "code",
   "execution_count": 87,
   "metadata": {},
   "outputs": [
    {
     "data": {
      "text/html": [
       "<div>\n",
       "<style scoped>\n",
       "    .dataframe tbody tr th:only-of-type {\n",
       "        vertical-align: middle;\n",
       "    }\n",
       "\n",
       "    .dataframe tbody tr th {\n",
       "        vertical-align: top;\n",
       "    }\n",
       "\n",
       "    .dataframe thead th {\n",
       "        text-align: right;\n",
       "    }\n",
       "</style>\n",
       "<table border=\"1\" class=\"dataframe\">\n",
       "  <thead>\n",
       "    <tr style=\"text-align: right;\">\n",
       "      <th></th>\n",
       "      <th>0</th>\n",
       "      <th>1</th>\n",
       "    </tr>\n",
       "  </thead>\n",
       "  <tbody>\n",
       "    <tr>\n",
       "      <th>0</th>\n",
       "      <td>a</td>\n",
       "      <td>0</td>\n",
       "    </tr>\n",
       "    <tr>\n",
       "      <th>1</th>\n",
       "      <td>b</td>\n",
       "      <td>1</td>\n",
       "    </tr>\n",
       "    <tr>\n",
       "      <th>2</th>\n",
       "      <td>b</td>\n",
       "      <td>2</td>\n",
       "    </tr>\n",
       "    <tr>\n",
       "      <th>3</th>\n",
       "      <td>c</td>\n",
       "      <td>3</td>\n",
       "    </tr>\n",
       "    <tr>\n",
       "      <th>4</th>\n",
       "      <td>b</td>\n",
       "      <td>4</td>\n",
       "    </tr>\n",
       "    <tr>\n",
       "      <th>5</th>\n",
       "      <td>a</td>\n",
       "      <td>5</td>\n",
       "    </tr>\n",
       "    <tr>\n",
       "      <th>6</th>\n",
       "      <td>NaN</td>\n",
       "      <td>6</td>\n",
       "    </tr>\n",
       "    <tr>\n",
       "      <th>7</th>\n",
       "      <td>NaN</td>\n",
       "      <td>7</td>\n",
       "    </tr>\n",
       "    <tr>\n",
       "      <th>8</th>\n",
       "      <td>NaN</td>\n",
       "      <td>8</td>\n",
       "    </tr>\n",
       "    <tr>\n",
       "      <th>9</th>\n",
       "      <td>NaN</td>\n",
       "      <td>9</td>\n",
       "    </tr>\n",
       "    <tr>\n",
       "      <th>10</th>\n",
       "      <td>NaN</td>\n",
       "      <td>10</td>\n",
       "    </tr>\n",
       "  </tbody>\n",
       "</table>\n",
       "</div>"
      ],
      "text/plain": [
       "      0   1\n",
       "0     a   0\n",
       "1     b   1\n",
       "2     b   2\n",
       "3     c   3\n",
       "4     b   4\n",
       "5     a   5\n",
       "6   NaN   6\n",
       "7   NaN   7\n",
       "8   NaN   8\n",
       "9   NaN   9\n",
       "10  NaN  10"
      ]
     },
     "execution_count": 87,
     "metadata": {},
     "output_type": "execute_result"
    }
   ],
   "source": [
    "pd.concat([data, s_num], axis=1)"
   ]
  },
  {
   "cell_type": "markdown",
   "metadata": {},
   "source": [
    "8. Получить индексы объекта Series A, данные которых содержатся в объетке Series B"
   ]
  },
  {
   "cell_type": "code",
   "execution_count": 58,
   "metadata": {},
   "outputs": [
    {
     "name": "stdout",
     "output_type": "stream",
     "text": [
      "0 1 2\n"
     ]
    }
   ],
   "source": [
    "sa, sb = pd.Series(['d', 'e', 'd', 'i']), pd.Series(['c', 'a', 't', 'e', 'd'])\n",
    "print(*sa[sa.isin(sb)].index)"
   ]
  },
  {
   "cell_type": "markdown",
   "metadata": {},
   "source": [
    "9. Получить объект Series B, который содержит элементы без повторений объекта A"
   ]
  },
  {
   "cell_type": "code",
   "execution_count": 61,
   "metadata": {},
   "outputs": [
    {
     "name": "stdout",
     "output_type": "stream",
     "text": [
      "0    c\n",
      "1    a\n",
      "2    t\n",
      "dtype: object\n"
     ]
    }
   ],
   "source": [
    "print(sb[~sb.isin(sa)])"
   ]
  },
  {
   "cell_type": "markdown",
   "metadata": {},
   "source": [
    "10. Преобразовать каждый символ объекта Series в верхний регистр"
   ]
  },
  {
   "cell_type": "code",
   "execution_count": 11,
   "metadata": {},
   "outputs": [
    {
     "name": "stdout",
     "output_type": "stream",
     "text": [
      "AB\n",
      "BC\n",
      "CD\n",
      "DE\n"
     ]
    }
   ],
   "source": [
    "s1 = pd.Series(['ab','bc','cd','de'])\n",
    "for i in range(len(s1)):\n",
    "    s1[i] = s1[i].upper()\n",
    "    print(s1[i])"
   ]
  },
  {
   "cell_type": "markdown",
   "metadata": {},
   "source": [
    "11. Преобразовать данные Series в строку"
   ]
  },
  {
   "cell_type": "code",
   "execution_count": 63,
   "metadata": {},
   "outputs": [
    {
     "name": "stdout",
     "output_type": "stream",
     "text": [
      "<class 'numpy.int32'>\n",
      "<class 'str'>\n"
     ]
    }
   ],
   "source": [
    "print(type(s_num[1]))\n",
    "s_str = pd.Series(str(i) for i in s_num)\n",
    "print(type(s_str[1]))"
   ]
  },
  {
   "cell_type": "markdown",
   "metadata": {},
   "source": [
    "12. Рассчитать количество символов в объекте Series"
   ]
  },
  {
   "cell_type": "code",
   "execution_count": 298,
   "metadata": {},
   "outputs": [
    {
     "name": "stdout",
     "output_type": "stream",
     "text": [
      "['uno' 3] ['dos' 3] ['tres' 4] ['cuatro' 6] ['cinco' 5]\n"
     ]
    }
   ],
   "source": [
    "s2 = pd.Series(['uno', 'dos', 'tres', 'cuatro', 'cinco'])\n",
    "print(*pd.DataFrame({'number': s2, 'count': np.array([len(i) for i in s2])}).values)"
   ]
  },
  {
   "cell_type": "markdown",
   "metadata": {},
   "source": [
    "13. Преобразовать в строковый тип"
   ]
  },
  {
   "cell_type": "code",
   "execution_count": 67,
   "metadata": {},
   "outputs": [
    {
     "name": "stdout",
     "output_type": "stream",
     "text": [
      "<class 'str'>\n"
     ]
    }
   ],
   "source": [
    "s2_str = pd.Series(str(i) for i in s2)\n",
    "print(type(s2_str[1]))"
   ]
  },
  {
   "cell_type": "markdown",
   "metadata": {},
   "source": [
    "14. Найти разность между объектом Series и смещением объекта Series на n"
   ]
  },
  {
   "cell_type": "code",
   "execution_count": 76,
   "metadata": {},
   "outputs": [
    {
     "name": "stdout",
     "output_type": "stream",
     "text": [
      "0    NaN\n",
      "1    NaN\n",
      "2    2.0\n",
      "3    2.0\n",
      "4    2.0\n",
      "5    2.0\n",
      "6    2.0\n",
      "7    2.0\n",
      "8    2.0\n",
      "9    2.0\n",
      "dtype: float64\n"
     ]
    }
   ],
   "source": [
    "s3 = pd.Series(np.arange(10))\n",
    "diff = s3.diff(periods=2)\n",
    "print(diff)"
   ]
  },
  {
   "cell_type": "markdown",
   "metadata": {},
   "source": [
    "15. Преобразовать разыне форматы строк объекта Series в дату"
   ]
  },
  {
   "cell_type": "code",
   "execution_count": 131,
   "metadata": {},
   "outputs": [
    {
     "data": {
      "text/plain": [
       "0   2020-11-14\n",
       "1   2020-11-15\n",
       "2   2020-11-16\n",
       "3   2020-11-17\n",
       "4   2020-11-18\n",
       "dtype: datetime64[ns]"
      ]
     },
     "execution_count": 131,
     "metadata": {},
     "output_type": "execute_result"
    }
   ],
   "source": [
    "date = pd.Series(['14/11/2020', '15 Nov 2020', '2020-11-16', '20201117', '18.11.2020'])\n",
    "pd.to_datetime(date)"
   ]
  },
  {
   "cell_type": "markdown",
   "metadata": {},
   "source": [
    "    15.1 Поскольку работа с датой часто встречается в работе, то см. еще один пример все данные должны иметь одинаковый формат (часто бывает выгрузка из SQL)"
   ]
  },
  {
   "cell_type": "code",
   "execution_count": 98,
   "metadata": {},
   "outputs": [],
   "source": [
    "date1 = pd.Series(['14.11.2020', '15.11.2020', '16.11.2020'])"
   ]
  },
  {
   "cell_type": "markdown",
   "metadata": {},
   "source": [
    "    15.2 Преобразовать в дату"
   ]
  },
  {
   "cell_type": "code",
   "execution_count": 99,
   "metadata": {},
   "outputs": [
    {
     "data": {
      "text/plain": [
       "0   2020-11-14\n",
       "1   2020-11-15\n",
       "2   2020-11-16\n",
       "dtype: datetime64[ns]"
      ]
     },
     "execution_count": 99,
     "metadata": {},
     "output_type": "execute_result"
    }
   ],
   "source": [
    "pd.to_datetime(date1, format='%d.%m.%Y')"
   ]
  },
  {
   "cell_type": "markdown",
   "metadata": {},
   "source": [
    "18. Получить год, месяц, день, день недели, номер дня в году от объекта Series (string)"
   ]
  },
  {
   "cell_type": "code",
   "execution_count": 132,
   "metadata": {},
   "outputs": [
    {
     "data": {
      "text/plain": [
       "0     14/11/2020\n",
       "1    15 Nov 2020\n",
       "2     2020-11-16\n",
       "3       20201117\n",
       "4     18.11.2020\n",
       "dtype: object"
      ]
     },
     "execution_count": 132,
     "metadata": {},
     "output_type": "execute_result"
    }
   ],
   "source": [
    "date"
   ]
  },
  {
   "cell_type": "markdown",
   "metadata": {},
   "source": [
    "    18.1 распарсить в дату и время"
   ]
  },
  {
   "cell_type": "code",
   "execution_count": 144,
   "metadata": {},
   "outputs": [
    {
     "name": "stdout",
     "output_type": "stream",
     "text": [
      "0   2020-11-14\n",
      "1   2020-11-15\n",
      "2   2020-11-16\n",
      "3   2020-11-17\n",
      "4   2020-11-18\n",
      "dtype: datetime64[ns]\n"
     ]
    }
   ],
   "source": [
    "f_date = date.map(lambda x: parse(x))\n",
    "print(f_date)"
   ]
  },
  {
   "cell_type": "markdown",
   "metadata": {},
   "source": [
    "    18.2 получить года"
   ]
  },
  {
   "cell_type": "code",
   "execution_count": 145,
   "metadata": {},
   "outputs": [
    {
     "data": {
      "text/plain": [
       "0    2020\n",
       "1    2020\n",
       "2    2020\n",
       "3    2020\n",
       "4    2020\n",
       "dtype: int64"
      ]
     },
     "execution_count": 145,
     "metadata": {},
     "output_type": "execute_result"
    }
   ],
   "source": [
    "f_date.dt.year"
   ]
  },
  {
   "cell_type": "markdown",
   "metadata": {},
   "source": [
    "    18.3 получить месяца"
   ]
  },
  {
   "cell_type": "code",
   "execution_count": 146,
   "metadata": {},
   "outputs": [
    {
     "data": {
      "text/plain": [
       "0    11\n",
       "1    11\n",
       "2    11\n",
       "3    11\n",
       "4    11\n",
       "dtype: int64"
      ]
     },
     "execution_count": 146,
     "metadata": {},
     "output_type": "execute_result"
    }
   ],
   "source": [
    "f_date.dt.month"
   ]
  },
  {
   "cell_type": "markdown",
   "metadata": {},
   "source": [
    "    18.3 получить дни"
   ]
  },
  {
   "cell_type": "code",
   "execution_count": 147,
   "metadata": {},
   "outputs": [
    {
     "data": {
      "text/plain": [
       "0    14\n",
       "1    15\n",
       "2    16\n",
       "3    17\n",
       "4    18\n",
       "dtype: int64"
      ]
     },
     "execution_count": 147,
     "metadata": {},
     "output_type": "execute_result"
    }
   ],
   "source": [
    "f_date.dt.day"
   ]
  },
  {
   "cell_type": "markdown",
   "metadata": {},
   "source": [
    "    18.4 получить номер недели"
   ]
  },
  {
   "cell_type": "code",
   "execution_count": 148,
   "metadata": {},
   "outputs": [
    {
     "data": {
      "text/plain": [
       "0    46\n",
       "1    46\n",
       "2    47\n",
       "3    47\n",
       "4    47\n",
       "dtype: int64"
      ]
     },
     "execution_count": 148,
     "metadata": {},
     "output_type": "execute_result"
    }
   ],
   "source": [
    "f_date.dt.weekofyear"
   ]
  },
  {
   "cell_type": "markdown",
   "metadata": {},
   "source": [
    "    18.5 получить номер дня в году"
   ]
  },
  {
   "cell_type": "code",
   "execution_count": 149,
   "metadata": {},
   "outputs": [
    {
     "data": {
      "text/plain": [
       "0    319\n",
       "1    320\n",
       "2    321\n",
       "3    322\n",
       "4    323\n",
       "dtype: int64"
      ]
     },
     "execution_count": 149,
     "metadata": {},
     "output_type": "execute_result"
    }
   ],
   "source": [
    "f_date.dt.dayofyear"
   ]
  },
  {
   "cell_type": "markdown",
   "metadata": {},
   "source": [
    "19. Отобрать элементы объекта Series, кторые содержат не менее двух гласных"
   ]
  },
  {
   "cell_type": "code",
   "execution_count": 267,
   "metadata": {},
   "outputs": [
    {
     "name": "stdout",
     "output_type": "stream",
     "text": [
      "[],['panda'],['snake'],[],['beluga'],[],"
     ]
    }
   ],
   "source": [
    "s4 = pd.Series(['owl', 'pandas', 'snake', 'cat', 'beluga', 'dog'])\n",
    "for i in range(len(s4)):\n",
    "    print(re.findall('(?:[a-z]*[aeiouy]){2,}', s4[i]), end = ',')"
   ]
  },
  {
   "cell_type": "markdown",
   "metadata": {},
   "source": [
    "20. Отобрать e-маилы из объекта Series (можно юзать регулярки)"
   ]
  },
  {
   "cell_type": "code",
   "execution_count": 286,
   "metadata": {},
   "outputs": [
    {
     "name": "stdout",
     "output_type": "stream",
     "text": [
      "qw3rty@qwe.rty\n",
      "qwerty@qwer.ty\n"
     ]
    }
   ],
   "source": [
    "mails = pd.Series(['qw3rty@qwe.rty', 'qwerty@qwer.ty', 'qwer.ty', 'qwer@ty'])\n",
    "pattern = '(\\w+)@([a-z0-9]+)\\.([a-z]{2,4})'\n",
    "for i in range (len(mails)):\n",
    "    if (re.findall(pattern, mails[i])):\n",
    "        print(mails[i])"
   ]
  },
  {
   "cell_type": "markdown",
   "metadata": {},
   "source": [
    "21. Получить среднее значение каждого уникального объекта Series s1 через \"маску\" другого объекта Series s2"
   ]
  },
  {
   "cell_type": "code",
   "execution_count": 300,
   "metadata": {},
   "outputs": [
    {
     "name": "stdout",
     "output_type": "stream",
     "text": [
      "0    a\n",
      "1    d\n",
      "2    b\n",
      "3    d\n",
      "4    b\n",
      "5    a\n",
      "6    d\n",
      "7    a\n",
      "8    a\n",
      "9    d\n",
      "dtype: object\n",
      "0     1.0\n",
      "1     2.0\n",
      "2     3.0\n",
      "3     4.0\n",
      "4     5.0\n",
      "5     6.0\n",
      "6     7.0\n",
      "7     8.0\n",
      "8     9.0\n",
      "9    10.0\n",
      "dtype: float64\n"
     ]
    },
    {
     "data": {
      "text/plain": [
       "a    6.00\n",
       "b    4.00\n",
       "d    5.75\n",
       "dtype: float64"
      ]
     },
     "execution_count": 300,
     "metadata": {},
     "output_type": "execute_result"
    }
   ],
   "source": [
    "seria1 = pd.Series(np.random.choice(['a', 'b', 'c', 'd'], 10))\n",
    "seria2 = pd.Series(np.linspace(1,10,10))\n",
    "print(seria1)\n",
    "print(seria2)\n",
    "seria2.groupby(seria1).mean()"
   ]
  }
 ],
 "metadata": {
  "kernelspec": {
   "display_name": "Python 3",
   "language": "python",
   "name": "python3"
  },
  "language_info": {
   "codemirror_mode": {
    "name": "ipython",
    "version": 3
   },
   "file_extension": ".py",
   "mimetype": "text/x-python",
   "name": "python",
   "nbconvert_exporter": "python",
   "pygments_lexer": "ipython3",
   "version": "3.8.3"
  }
 },
 "nbformat": 4,
 "nbformat_minor": 4
}
