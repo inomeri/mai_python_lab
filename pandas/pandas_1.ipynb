{
 "cells": [
  {
   "cell_type": "markdown",
   "metadata": {},
   "source": [
    " ### Московский Авиационый Институт \n",
    " #### (НАЦИОНАЛЬНЫЙ ИССЛЕДОВАТЕЛЬСКИЙ УНИВЕРСИТЕТ)\n",
    " #### Лабороторная работа №4\n",
    " #### По дисциплине \"Программирование на Python\"\n",
    " #### На тему \"Работа с библиотекой Pandas\"\n",
    " #### Выполнил студент группы Т12о-101М: Трусова В.Л.\n",
    " #### Работу принял: Поповкин А.В.\n",
    " ##### Дата: 21.11.2020\n",
    " ##### Москва, 2020г."
   ]
  },
  {
   "cell_type": "markdown",
   "metadata": {},
   "source": [
    "1. Импортировать модули sys numpy pandas"
   ]
  },
  {
   "cell_type": "code",
   "execution_count": 1,
   "metadata": {},
   "outputs": [],
   "source": [
    "import sys, numpy as np, pandas as pd"
   ]
  },
  {
   "cell_type": "markdown",
   "metadata": {},
   "source": [
    "2. Создать объект pandas Series из листа, объекта NumPy, и словаря"
   ]
  },
  {
   "cell_type": "code",
   "execution_count": 47,
   "metadata": {},
   "outputs": [
    {
     "name": "stdout",
     "output_type": "stream",
     "text": [
      "0    1\n",
      "1    2\n",
      "2    3\n",
      "dtype: int64\n"
     ]
    }
   ],
   "source": [
    "list_ = [1,2,3]\n",
    "print(pd.Series(list_))"
   ]
  },
  {
   "cell_type": "code",
   "execution_count": 48,
   "metadata": {},
   "outputs": [
    {
     "name": "stdout",
     "output_type": "stream",
     "text": [
      "pd    <module 'pandas' from 'F:\\\\Anaconda\\\\lib\\\\site...\n",
      "np    <module 'numpy' from 'F:\\\\Anaconda\\\\lib\\\\site-...\n",
      "dtype: object\n"
     ]
    }
   ],
   "source": [
    "dict_ = {'pd':pandas, 'np':numpy}\n",
    "print(pd.Series(dict_))"
   ]
  },
  {
   "cell_type": "code",
   "execution_count": 49,
   "metadata": {},
   "outputs": [
    {
     "name": "stdout",
     "output_type": "stream",
     "text": [
      "0    4\n",
      "1    5\n",
      "2    6\n",
      "dtype: int32\n"
     ]
    }
   ],
   "source": [
    "np_obj = np.array([4,5,6])\n",
    "print(pd.Series(np_obj))"
   ]
  },
  {
   "cell_type": "markdown",
   "metadata": {},
   "source": [
    "3. Преобразовать объект Series в DataFrame"
   ]
  },
  {
   "cell_type": "code",
   "execution_count": 20,
   "metadata": {},
   "outputs": [
    {
     "name": "stdout",
     "output_type": "stream",
     "text": [
      "                             0\n",
      "Fruits  [apple, banana, peach]\n",
      "Value             [21, 34, 42]\n"
     ]
    }
   ],
   "source": [
    "series = pd.Series({'Fruits':['apple', 'banana', 'peach'], 'Value':['21', '34', '42']})\n",
    "print(pd.DataFrame(series))"
   ]
  },
  {
   "cell_type": "markdown",
   "metadata": {},
   "source": [
    "4. Создать объект Series"
   ]
  },
  {
   "cell_type": "code",
   "execution_count": 11,
   "metadata": {},
   "outputs": [
    {
     "name": "stdout",
     "output_type": "stream",
     "text": [
      "one      1\n",
      "two      2\n",
      "three    3\n",
      "four     4\n",
      "dtype: int64\n"
     ]
    }
   ],
   "source": [
    "series = pd.Series([1,2,3,4], index=['one', 'two', 'three', 'four'])\n",
    "print(series)"
   ]
  },
  {
   "cell_type": "markdown",
   "metadata": {},
   "source": [
    "5. Преобразовать в DataFrame"
   ]
  },
  {
   "cell_type": "code",
   "execution_count": 12,
   "metadata": {},
   "outputs": [
    {
     "name": "stdout",
     "output_type": "stream",
     "text": [
      "       0\n",
      "one    1\n",
      "two    2\n",
      "three  3\n",
      "four   4\n"
     ]
    }
   ],
   "source": [
    "print(pd.DataFrame(series))"
   ]
  },
  {
   "cell_type": "markdown",
   "metadata": {},
   "source": [
    "6. Объединить несколько объектов Series в Dataframe"
   ]
  },
  {
   "cell_type": "code",
   "execution_count": 18,
   "metadata": {},
   "outputs": [
    {
     "name": "stdout",
     "output_type": "stream",
     "text": [
      "   list  mas\n",
      "0     1    4\n",
      "1     2    5\n",
      "2     3    6\n"
     ]
    }
   ],
   "source": [
    "print(pd.DataFrame({'list':list_ ,'mas':np_obj}))"
   ]
  },
  {
   "cell_type": "markdown",
   "metadata": {},
   "source": [
    "7. Присвоить имя индексу объекта Series"
   ]
  },
  {
   "cell_type": "code",
   "execution_count": 17,
   "metadata": {},
   "outputs": [
    {
     "name": "stdout",
     "output_type": "stream",
     "text": [
      "one      1\n",
      "two      2\n",
      "three    3\n",
      "four     4\n",
      "Name: Numbers, dtype: int64\n"
     ]
    }
   ],
   "source": [
    "series.name='Numbers'\n",
    "print(series)"
   ]
  },
  {
   "cell_type": "markdown",
   "metadata": {},
   "source": [
    "8. Получить элементы объекта Series A, которых нет в объекте Series B"
   ]
  },
  {
   "cell_type": "code",
   "execution_count": 2,
   "metadata": {},
   "outputs": [
    {
     "name": "stdout",
     "output_type": "stream",
     "text": [
      "b d\n"
     ]
    }
   ],
   "source": [
    "s1, s2 = pd.Series(['a','b','c','d']), pd.Series(['c','a','t'])\n",
    "print(*s1[~s1.isin(s2)].values)"
   ]
  },
  {
   "cell_type": "markdown",
   "metadata": {},
   "source": [
    "9. Возвратить вместе с индексами"
   ]
  },
  {
   "cell_type": "code",
   "execution_count": 33,
   "metadata": {},
   "outputs": [
    {
     "name": "stdout",
     "output_type": "stream",
     "text": [
      "1    b\n",
      "3    d\n",
      "dtype: object\n"
     ]
    }
   ],
   "source": [
    "print(s1[~s1.isin(s2)])"
   ]
  },
  {
   "cell_type": "markdown",
   "metadata": {},
   "source": [
    "10. Возвратить значения"
   ]
  },
  {
   "cell_type": "code",
   "execution_count": 37,
   "metadata": {},
   "outputs": [
    {
     "name": "stdout",
     "output_type": "stream",
     "text": [
      "  alf  cat\n",
      "0   a    c\n",
      "1   b    a\n",
      "2   c    t\n",
      "3   d  NaN\n"
     ]
    }
   ],
   "source": [
    "print(pd.DataFrame({'alf':s1, 'cat':s2}))"
   ]
  },
  {
   "cell_type": "markdown",
   "metadata": {},
   "source": [
    "11. Получить не пересекающиеся элементы в двух объектах Series"
   ]
  },
  {
   "cell_type": "code",
   "execution_count": 8,
   "metadata": {},
   "outputs": [
    {
     "name": "stdout",
     "output_type": "stream",
     "text": [
      "b d\n"
     ]
    }
   ],
   "source": [
    "print(*s1[~s1.isin(s2)].values)"
   ]
  },
  {
   "cell_type": "markdown",
   "metadata": {},
   "source": [
    "12. Возвратить вместе с индексами"
   ]
  },
  {
   "cell_type": "code",
   "execution_count": 39,
   "metadata": {},
   "outputs": [
    {
     "name": "stdout",
     "output_type": "stream",
     "text": [
      "1    b\n",
      "3    d\n",
      "dtype: object\n"
     ]
    }
   ],
   "source": [
    "print(s1[~s1.isin(s2)])"
   ]
  },
  {
   "cell_type": "markdown",
   "metadata": {},
   "source": [
    "13. Получить объединенный Series без повтороений"
   ]
  },
  {
   "cell_type": "code",
   "execution_count": 42,
   "metadata": {},
   "outputs": [
    {
     "name": "stdout",
     "output_type": "stream",
     "text": [
      "['a' 'b' 'c' 'd' 't']\n"
     ]
    }
   ],
   "source": [
    "print((pd.concat([s1,s2])).unique())"
   ]
  },
  {
   "cell_type": "markdown",
   "metadata": {},
   "source": [
    "14. Получить пересекающиеся данные"
   ]
  },
  {
   "cell_type": "code",
   "execution_count": 43,
   "metadata": {},
   "outputs": [
    {
     "name": "stdout",
     "output_type": "stream",
     "text": [
      "0    a\n",
      "2    c\n",
      "dtype: object\n"
     ]
    }
   ],
   "source": [
    "print(s1[s1.isin(s2)])"
   ]
  },
  {
   "cell_type": "markdown",
   "metadata": {},
   "source": [
    "15. Отобрать все данные, кроме пересекающихся"
   ]
  },
  {
   "cell_type": "code",
   "execution_count": 6,
   "metadata": {},
   "outputs": [
    {
     "name": "stdout",
     "output_type": "stream",
     "text": [
      "1    b\n",
      "3    d\n",
      "dtype: object\n"
     ]
    }
   ],
   "source": [
    "print(s1[~s1.isin(s2)])"
   ]
  },
  {
   "cell_type": "markdown",
   "metadata": {},
   "source": [
    "16. Возвратить значения"
   ]
  },
  {
   "cell_type": "code",
   "execution_count": 4,
   "metadata": {},
   "outputs": [
    {
     "name": "stdout",
     "output_type": "stream",
     "text": [
      "0    a\n",
      "1    b\n",
      "2    c\n",
      "3    d\n",
      "dtype: object\n",
      "0    c\n",
      "1    a\n",
      "2    t\n",
      "dtype: object\n"
     ]
    },
    {
     "data": {
      "text/plain": [
       "array(['b', 'd', 't'], dtype=object)"
      ]
     },
     "execution_count": 4,
     "metadata": {},
     "output_type": "execute_result"
    }
   ],
   "source": [
    "print(s1)\n",
    "print(s2)\n",
    "np.setxor1d(s1, s2)"
   ]
  }
 ],
 "metadata": {
  "kernelspec": {
   "display_name": "Python 3",
   "language": "python",
   "name": "python3"
  },
  "language_info": {
   "codemirror_mode": {
    "name": "ipython",
    "version": 3
   },
   "file_extension": ".py",
   "mimetype": "text/x-python",
   "name": "python",
   "nbconvert_exporter": "python",
   "pygments_lexer": "ipython3",
   "version": "3.8.3"
  }
 },
 "nbformat": 4,
 "nbformat_minor": 4
}
