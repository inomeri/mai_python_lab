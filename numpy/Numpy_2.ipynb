{
 "cells": [
  {
   "cell_type": "markdown",
   "metadata": {},
   "source": [
    " ### Московский Авиационый Институт \n",
    " #### (НАЦИОНАЛЬНЫЙ ИССЛЕДОВАТЕЛЬСКИЙ УНИВЕРСИТЕТ)\n",
    " #### Лабороторная работа №2\n",
    " #### По дисциплине \"Программирование на Python\"\n",
    " #### На тему \"Работа с библиотекой NumPy\"\n",
    " #### Выполнил студент группы Т12о-101М: Трусова В.Л.\n",
    " #### Работу принял: Поповкин А.В.\n",
    " ##### Дата: 14.11.2020\n",
    " ##### Москва, 2020г."
   ]
  },
  {
   "cell_type": "markdown",
   "metadata": {},
   "source": [
    "Перемножить матрицы 5x3 и 3x2"
   ]
  },
  {
   "cell_type": "code",
   "execution_count": 2,
   "metadata": {},
   "outputs": [
    {
     "data": {
      "text/plain": [
       "array([[3., 3.],\n",
       "       [3., 3.],\n",
       "       [3., 3.],\n",
       "       [3., 3.],\n",
       "       [3., 3.]])"
      ]
     },
     "execution_count": 2,
     "metadata": {},
     "output_type": "execute_result"
    }
   ],
   "source": [
    "import numpy as np\n",
    "np.dot(np.ones((5,3)), np.ones((3,2)))"
   ]
  },
  {
   "cell_type": "markdown",
   "metadata": {},
   "source": [
    "Дан массив, поменять знак у элементов, значения которых между 3 и 8"
   ]
  },
  {
   "cell_type": "code",
   "execution_count": 29,
   "metadata": {},
   "outputs": [
    {
     "name": "stdout",
     "output_type": "stream",
     "text": [
      "[ 0  1  2  3 -4 -5 -6 -7  8  9 10]\n"
     ]
    }
   ],
   "source": [
    "mas = np.arange(11)\n",
    "mas[(3 < mas) & (mas < 8)] *= -1\n",
    "print(mas)"
   ]
  },
  {
   "cell_type": "markdown",
   "metadata": {},
   "source": [
    "Создать 5x5 матрицу со значениями в строках от 0 до 4"
   ]
  },
  {
   "cell_type": "code",
   "execution_count": 7,
   "metadata": {},
   "outputs": [
    {
     "name": "stdout",
     "output_type": "stream",
     "text": [
      "[[0. 1. 2. 3. 4.]\n",
      " [0. 1. 2. 3. 4.]\n",
      " [0. 1. 2. 3. 4.]\n",
      " [0. 1. 2. 3. 4.]\n",
      " [0. 1. 2. 3. 4.]]\n"
     ]
    }
   ],
   "source": [
    "mas = np.zeros((5,5))\n",
    "mas += np.arange(5)\n",
    "print(mas)"
   ]
  },
  {
   "cell_type": "markdown",
   "metadata": {},
   "source": [
    "Есть генератор, сделать с его помощью массив"
   ]
  },
  {
   "cell_type": "code",
   "execution_count": 66,
   "metadata": {},
   "outputs": [
    {
     "name": "stdout",
     "output_type": "stream",
     "text": [
      "[0 1 2 3 4 5 6 7 8 9]\n"
     ]
    }
   ],
   "source": [
    "def generate():\n",
    "    for x in range(10):\n",
    "        yield x #ключевое слово для генератора\n",
    "mas = np.fromiter(generate(),dtype=int)#создает одномерный массив\n",
    "print(mas)"
   ]
  },
  {
   "cell_type": "markdown",
   "metadata": {},
   "source": [
    "Создать вектор размера 10 со значениями от 0 до 1, не включая ни то, ни другое"
   ]
  },
  {
   "cell_type": "code",
   "execution_count": 15,
   "metadata": {},
   "outputs": [
    {
     "data": {
      "text/plain": [
       "array([0.09090909, 0.18181818, 0.27272727, 0.36363636, 0.45454545,\n",
       "       0.54545455, 0.63636364, 0.72727273, 0.81818182, 0.90909091])"
      ]
     },
     "execution_count": 15,
     "metadata": {},
     "output_type": "execute_result"
    }
   ],
   "source": [
    "np.linspace(0,1,12)[1:-1]"
   ]
  },
  {
   "cell_type": "markdown",
   "metadata": {},
   "source": [
    "Отсортировать вектор"
   ]
  },
  {
   "cell_type": "code",
   "execution_count": 16,
   "metadata": {},
   "outputs": [
    {
     "name": "stdout",
     "output_type": "stream",
     "text": [
      "[0.07447219 0.07863515 0.16775993 0.17031375 0.35616985 0.69923925\n",
      " 0.7304559  0.82652353 0.93221227 0.98983517]\n"
     ]
    }
   ],
   "source": [
    "v = np.random.random(10)\n",
    "v.sort()\n",
    "print(v)"
   ]
  },
  {
   "cell_type": "markdown",
   "metadata": {},
   "source": [
    "Проверить, одинаковы ли 2 numpy массива"
   ]
  },
  {
   "cell_type": "code",
   "execution_count": 23,
   "metadata": {},
   "outputs": [
    {
     "name": "stdout",
     "output_type": "stream",
     "text": [
      "False\n"
     ]
    }
   ],
   "source": [
    "mas1 = np.random.randint(0,2,5)\n",
    "mas2 = np.random.randint(0,2,5)\n",
    "equal = np.allclose(mas1,mas2) # поэлементно сравниваем \n",
    "print(equal)"
   ]
  },
  {
   "cell_type": "markdown",
   "metadata": {},
   "source": [
    "Сделать массив неизменяемым"
   ]
  },
  {
   "cell_type": "code",
   "execution_count": 24,
   "metadata": {},
   "outputs": [
    {
     "ename": "ValueError",
     "evalue": "assignment destination is read-only",
     "output_type": "error",
     "traceback": [
      "\u001b[1;31m---------------------------------------------------------------------------\u001b[0m",
      "\u001b[1;31mValueError\u001b[0m                                Traceback (most recent call last)",
      "\u001b[1;32m<ipython-input-24-3850e62d54b8>\u001b[0m in \u001b[0;36m<module>\u001b[1;34m\u001b[0m\n\u001b[0;32m      1\u001b[0m \u001b[0mmas\u001b[0m \u001b[1;33m=\u001b[0m \u001b[0mnp\u001b[0m\u001b[1;33m.\u001b[0m\u001b[0mzeros\u001b[0m\u001b[1;33m(\u001b[0m\u001b[1;36m10\u001b[0m\u001b[1;33m)\u001b[0m\u001b[1;33m\u001b[0m\u001b[1;33m\u001b[0m\u001b[0m\n\u001b[0;32m      2\u001b[0m \u001b[0mmas\u001b[0m\u001b[1;33m.\u001b[0m\u001b[0mflags\u001b[0m\u001b[1;33m.\u001b[0m\u001b[0mwriteable\u001b[0m \u001b[1;33m=\u001b[0m \u001b[1;32mFalse\u001b[0m\u001b[1;33m\u001b[0m\u001b[1;33m\u001b[0m\u001b[0m\n\u001b[1;32m----> 3\u001b[1;33m \u001b[0mmas\u001b[0m\u001b[1;33m[\u001b[0m\u001b[1;36m0\u001b[0m\u001b[1;33m]\u001b[0m \u001b[1;33m=\u001b[0m \u001b[1;36m1\u001b[0m\u001b[1;33m\u001b[0m\u001b[1;33m\u001b[0m\u001b[0m\n\u001b[0m",
      "\u001b[1;31mValueError\u001b[0m: assignment destination is read-only"
     ]
    }
   ],
   "source": [
    "mas = np.zeros(10)\n",
    "mas.flags.writeable = False\n",
    "mas[0] = 1"
   ]
  },
  {
   "cell_type": "markdown",
   "metadata": {},
   "source": [
    "Дан массив 10x2 (точки в декартовой системе координат), преобразовать в полярную"
   ]
  },
  {
   "cell_type": "code",
   "execution_count": 30,
   "metadata": {},
   "outputs": [
    {
     "name": "stdout",
     "output_type": "stream",
     "text": [
      "[0.28486215 0.6783659  1.12847917 0.42526633 0.57058144 0.57567946\n",
      " 0.27489013 0.95332725 0.64203053 0.04070026]\n",
      "[0.15789594 0.54248061 0.5300066  1.20060689 0.63020142 0.57590557\n",
      " 1.39743718 1.52143499 1.14510147 0.08682116]\n"
     ]
    }
   ],
   "source": [
    "mas_c = np.random.random((10,2))\n",
    "x,y = mas_c[:,0], mas_c[:,1]\n",
    "r = np.hypot(x, y) # полярный радиус\n",
    "t = np.arctan2(y,x) # полярный угол (рад.)\n",
    "print(r)\n",
    "print(t)"
   ]
  },
  {
   "cell_type": "markdown",
   "metadata": {},
   "source": [
    "Заменить максимальный элемент на ноль"
   ]
  },
  {
   "cell_type": "code",
   "execution_count": 26,
   "metadata": {},
   "outputs": [
    {
     "name": "stdout",
     "output_type": "stream",
     "text": [
      "[0.34901999 0.78534328 0.44982194 0.78293311 0.13888667 0.68514517\n",
      " 0.16056521 0.32598416 0.48711648 0.17321319]\n",
      "[0.34901999 0.         0.44982194 0.78293311 0.13888667 0.68514517\n",
      " 0.16056521 0.32598416 0.48711648 0.17321319]\n"
     ]
    }
   ],
   "source": [
    "mas = np.random.random(10)\n",
    "print(mas)\n",
    "mas[mas.argmax()] = 0 # получаем индекс макс. эл-та и заменяем его значение 0\n",
    "print(mas)"
   ]
  },
  {
   "cell_type": "markdown",
   "metadata": {},
   "source": [
    "Создать структурированный массив с координатами x, y на сетке в квадрате [0,1]x[0,1]"
   ]
  },
  {
   "cell_type": "code",
   "execution_count": 27,
   "metadata": {},
   "outputs": [
    {
     "name": "stdout",
     "output_type": "stream",
     "text": [
      "[[(0.        , 0.        ) (0.11111111, 0.        )\n",
      "  (0.22222222, 0.        ) (0.33333333, 0.        )\n",
      "  (0.44444444, 0.        ) (0.55555556, 0.        )\n",
      "  (0.66666667, 0.        ) (0.77777778, 0.        )\n",
      "  (0.88888889, 0.        ) (1.        , 0.        )]\n",
      " [(0.        , 0.11111111) (0.11111111, 0.11111111)\n",
      "  (0.22222222, 0.11111111) (0.33333333, 0.11111111)\n",
      "  (0.44444444, 0.11111111) (0.55555556, 0.11111111)\n",
      "  (0.66666667, 0.11111111) (0.77777778, 0.11111111)\n",
      "  (0.88888889, 0.11111111) (1.        , 0.11111111)]\n",
      " [(0.        , 0.22222222) (0.11111111, 0.22222222)\n",
      "  (0.22222222, 0.22222222) (0.33333333, 0.22222222)\n",
      "  (0.44444444, 0.22222222) (0.55555556, 0.22222222)\n",
      "  (0.66666667, 0.22222222) (0.77777778, 0.22222222)\n",
      "  (0.88888889, 0.22222222) (1.        , 0.22222222)]\n",
      " [(0.        , 0.33333333) (0.11111111, 0.33333333)\n",
      "  (0.22222222, 0.33333333) (0.33333333, 0.33333333)\n",
      "  (0.44444444, 0.33333333) (0.55555556, 0.33333333)\n",
      "  (0.66666667, 0.33333333) (0.77777778, 0.33333333)\n",
      "  (0.88888889, 0.33333333) (1.        , 0.33333333)]\n",
      " [(0.        , 0.44444444) (0.11111111, 0.44444444)\n",
      "  (0.22222222, 0.44444444) (0.33333333, 0.44444444)\n",
      "  (0.44444444, 0.44444444) (0.55555556, 0.44444444)\n",
      "  (0.66666667, 0.44444444) (0.77777778, 0.44444444)\n",
      "  (0.88888889, 0.44444444) (1.        , 0.44444444)]\n",
      " [(0.        , 0.55555556) (0.11111111, 0.55555556)\n",
      "  (0.22222222, 0.55555556) (0.33333333, 0.55555556)\n",
      "  (0.44444444, 0.55555556) (0.55555556, 0.55555556)\n",
      "  (0.66666667, 0.55555556) (0.77777778, 0.55555556)\n",
      "  (0.88888889, 0.55555556) (1.        , 0.55555556)]\n",
      " [(0.        , 0.66666667) (0.11111111, 0.66666667)\n",
      "  (0.22222222, 0.66666667) (0.33333333, 0.66666667)\n",
      "  (0.44444444, 0.66666667) (0.55555556, 0.66666667)\n",
      "  (0.66666667, 0.66666667) (0.77777778, 0.66666667)\n",
      "  (0.88888889, 0.66666667) (1.        , 0.66666667)]\n",
      " [(0.        , 0.77777778) (0.11111111, 0.77777778)\n",
      "  (0.22222222, 0.77777778) (0.33333333, 0.77777778)\n",
      "  (0.44444444, 0.77777778) (0.55555556, 0.77777778)\n",
      "  (0.66666667, 0.77777778) (0.77777778, 0.77777778)\n",
      "  (0.88888889, 0.77777778) (1.        , 0.77777778)]\n",
      " [(0.        , 0.88888889) (0.11111111, 0.88888889)\n",
      "  (0.22222222, 0.88888889) (0.33333333, 0.88888889)\n",
      "  (0.44444444, 0.88888889) (0.55555556, 0.88888889)\n",
      "  (0.66666667, 0.88888889) (0.77777778, 0.88888889)\n",
      "  (0.88888889, 0.88888889) (1.        , 0.88888889)]\n",
      " [(0.        , 1.        ) (0.11111111, 1.        )\n",
      "  (0.22222222, 1.        ) (0.33333333, 1.        )\n",
      "  (0.44444444, 1.        ) (0.55555556, 1.        )\n",
      "  (0.66666667, 1.        ) (0.77777778, 1.        )\n",
      "  (0.88888889, 1.        ) (1.        , 1.        )]]\n"
     ]
    }
   ],
   "source": [
    "mas = np.zeros((10,10), [('x',float),('y',float)])\n",
    "mas['x'], mas['y'] = np.meshgrid(np.linspace(0,1,10), np.linspace(0,1,10))\n",
    "# создает список массивов координатных сетокдля указанных одномерных массивов\n",
    "print(mas)"
   ]
  },
  {
   "cell_type": "markdown",
   "metadata": {},
   "source": [
    "Из двух массивов сделать матрицу Коши C (Cij = 1/(xi - yj))"
   ]
  },
  {
   "cell_type": "code",
   "execution_count": 31,
   "metadata": {},
   "outputs": [
    {
     "name": "stdout",
     "output_type": "stream",
     "text": [
      "3638.1636371179666\n"
     ]
    }
   ],
   "source": [
    "x = np.arange(8)\n",
    "y = x + 0.5\n",
    "c = 1.0 / np.subtract.outer(x, y) # поэлементная разность значений массивов\n",
    "print(np.linalg.det(c)) # детерминант матрицы (для м. Коши !=0)"
   ]
  },
  {
   "cell_type": "markdown",
   "metadata": {},
   "source": [
    "Найти минимальное и максимальное значение, принимаемое каждым числовым типом numpy напечатать все значения в массиве"
   ]
  },
  {
   "cell_type": "code",
   "execution_count": 10,
   "metadata": {},
   "outputs": [
    {
     "name": "stdout",
     "output_type": "stream",
     "text": [
      "-128\n",
      "127\n",
      "-2147483648\n",
      "2147483647\n",
      "-9223372036854775808\n",
      "9223372036854775807\n",
      "-3.4028235e+38\n",
      "3.4028235e+38\n",
      "-1.7976931348623157e+308\n",
      "1.7976931348623157e+308\n"
     ]
    }
   ],
   "source": [
    "mas = []\n",
    "for dtype in [np.int8, np.int32, np.int64]: #для целых чисел\n",
    "   mas.append(np.iinfo(dtype).min)\n",
    "   mas.append(np.iinfo(dtype).max)\n",
    "for dtype in [np.float32, np.float64]: #для вещественных чисел\n",
    "   mas.append(np.finfo(dtype).min)\n",
    "   mas.append(np.finfo(dtype).max)\n",
    "print(*mas, sep='\\n')"
   ]
  },
  {
   "cell_type": "markdown",
   "metadata": {},
   "source": [
    "Найти ближайшее к заданному значению число в заданном массиве"
   ]
  },
  {
   "cell_type": "code",
   "execution_count": 11,
   "metadata": {},
   "outputs": [
    {
     "name": "stdout",
     "output_type": "stream",
     "text": [
      "63\n"
     ]
    }
   ],
   "source": [
    "mas = np.arange(100)\n",
    "v = np.random.uniform(0,100) #возвращает число из заданного промежутка\n",
    "index = (np.abs(mas-v)).argmin() #находим индекс числа с минимальным отклонением от заданного\n",
    "print(mas[index])"
   ]
  },
  {
   "cell_type": "markdown",
   "metadata": {},
   "source": [
    "Создать структурированный массив, представляющий координату (x,y) и цвет (r,g,b)"
   ]
  },
  {
   "cell_type": "code",
   "execution_count": 10,
   "metadata": {},
   "outputs": [
    {
     "name": "stdout",
     "output_type": "stream",
     "text": [
      "[((0., 0.), (0., 0., 0.)) ((0., 0.), (0., 0., 0.))\n",
      " ((0., 0.), (0., 0., 0.)) ((0., 0.), (0., 0., 0.))\n",
      " ((0., 0.), (0., 0., 0.)) ((0., 0.), (0., 0., 0.))\n",
      " ((0., 0.), (0., 0., 0.)) ((0., 0.), (0., 0., 0.))\n",
      " ((0., 0.), (0., 0., 0.)) ((0., 0.), (0., 0., 0.))]\n"
     ]
    },
    {
     "name": "stderr",
     "output_type": "stream",
     "text": [
      "<ipython-input-10-e2919c53721a>:1: FutureWarning: Passing (type, 1) or '1type' as a synonym of type is deprecated; in a future version of numpy, it will be understood as (type, (1,)) / '(1,)type'.\n",
      "  mas = np.zeros(10, [ ('position', [ ('x', float, 1),\n"
     ]
    }
   ],
   "source": [
    "mas = np.zeros(10, [ ('position', [ ('x', float, 1),\n",
    "                                   ('y', float, 1)]),\n",
    "                    ('color',    [ ('r', float, 1),\n",
    "                                   ('g', float, 1),\n",
    "                                   ('b', float, 1)])])\n",
    "print(mas)"
   ]
  },
  {
   "cell_type": "markdown",
   "metadata": {},
   "source": [
    "Дан массив (100,2) координат, найти расстояние от каждой точки до каждой"
   ]
  },
  {
   "cell_type": "code",
   "execution_count": 36,
   "metadata": {},
   "outputs": [
    {
     "name": "stdout",
     "output_type": "stream",
     "text": [
      "[[0.         0.7754787  0.85080628 0.59567091 0.26715865 0.69872213\n",
      "  0.66924329 0.76099008 0.18679416 0.21175661]\n",
      " [0.7754787  0.         0.24488967 0.9379096  0.60921476 0.0926713\n",
      "  0.61356011 0.15946841 0.69067591 0.67746031]\n",
      " [0.85080628 0.24488967 0.         1.13356849 0.62407268 0.31414266\n",
      "  0.84271753 0.40431845 0.71824129 0.69834019]\n",
      " [0.59567091 0.9379096  1.13356849 0.         0.790256   0.84603888\n",
      "  0.39353138 0.82138399 0.7515711  0.77090296]\n",
      " [0.26715865 0.60921476 0.62407268 0.790256   0.         0.55368231\n",
      "  0.73298306 0.64666111 0.09572422 0.07429912]\n",
      " [0.69872213 0.0926713  0.31414266 0.84603888 0.55368231 0.\n",
      "  0.53027942 0.11736673 0.62878438 0.61797329]\n",
      " [0.66924329 0.61356011 0.84271753 0.39353138 0.73298306 0.53027942\n",
      "  0.         0.47051874 0.74348013 0.7518571 ]\n",
      " [0.76099008 0.15946841 0.40431845 0.82138399 0.64666111 0.11736673\n",
      "  0.47051874 0.         0.71408852 0.70608702]\n",
      " [0.18679416 0.69067591 0.71824129 0.7515711  0.09572422 0.62878438\n",
      "  0.74348013 0.71408852 0.         0.02544546]\n",
      " [0.21175661 0.67746031 0.69834019 0.77090296 0.07429912 0.61797329\n",
      "  0.7518571  0.70608702 0.02544546 0.        ]]\n"
     ]
    }
   ],
   "source": [
    "import scipy.spatial\n",
    "\n",
    "mas = np.random.random((10,2))\n",
    "dis = scipy.spatial.distance.cdist(mas,mas) \n",
    "#вычисляем дистанцию между каждой парой входных массивов\n",
    "print(dis)"
   ]
  },
  {
   "cell_type": "markdown",
   "metadata": {},
   "source": [
    "Преобразовать массив из float в int"
   ]
  },
  {
   "cell_type": "code",
   "execution_count": 39,
   "metadata": {},
   "outputs": [
    {
     "name": "stdout",
     "output_type": "stream",
     "text": [
      "[0. 1. 2. 3. 4. 5. 6. 7. 8. 9.]\n",
      "[0 1 2 3 4 5 6 7 8 9]\n"
     ]
    }
   ],
   "source": [
    "mas = np.arange(10, dtype=np.float32)\n",
    "print(mas)\n",
    "mas = mas.astype(np.int32, copy=False) #преобразует тип входного массива\n",
    "print(mas)"
   ]
  },
  {
   "cell_type": "markdown",
   "metadata": {},
   "source": [
    "Дан файл:\n",
    "1,2,3,4,5\n",
    "6,,,7,8\n",
    ",,9,10,11\n",
    "Как прочитать его?"
   ]
  },
  {
   "cell_type": "code",
   "execution_count": 15,
   "metadata": {},
   "outputs": [
    {
     "name": "stdout",
     "output_type": "stream",
     "text": [
      "1 2 3 4 5 6 7 8 9 10 11\n"
     ]
    }
   ],
   "source": [
    "import re\n",
    "with open('some_num.txt', 'r') as f:\n",
    "    str_ = f.read()\n",
    "    num = re.findall('[0-9]+', str_) #находим все числа\n",
    "    f.close() \n",
    "print(*num)"
   ]
  },
  {
   "cell_type": "markdown",
   "metadata": {},
   "source": [
    "Каков эквивалент функции enumerate для numpy массивов?"
   ]
  },
  {
   "cell_type": "code",
   "execution_count": 13,
   "metadata": {},
   "outputs": [
    {
     "name": "stdout",
     "output_type": "stream",
     "text": [
      "(0, 0) 0\n",
      "(0, 1) 1\n",
      "(0, 2) 2\n",
      "(1, 0) 3\n",
      "(1, 1) 4\n",
      "(1, 2) 5\n",
      "(2, 0) 6\n",
      "(2, 1) 7\n",
      "(2, 2) 8\n",
      "(0, 0) 0\n",
      "(0, 1) 1\n",
      "(0, 2) 2\n",
      "(1, 0) 3\n",
      "(1, 1) 4\n",
      "(1, 2) 5\n",
      "(2, 0) 6\n",
      "(2, 1) 7\n",
      "(2, 2) 8\n"
     ]
    }
   ],
   "source": [
    "mas = np.arange(9).reshape(3,3)\n",
    "for index, value in np.ndenumerate(mas): #возвращающает пары (индекс элементa, значение)\n",
    "    print(index, value)\n",
    "for index in np.ndindex(mas.shape): #возвращающает индексы элементов в массиве заданной формы\n",
    "    print(index, mas[index])"
   ]
  },
  {
   "cell_type": "markdown",
   "metadata": {},
   "source": [
    "Сформировать 2D массив с распределением Гаусса"
   ]
  },
  {
   "cell_type": "code",
   "execution_count": 17,
   "metadata": {},
   "outputs": [
    {
     "name": "stdout",
     "output_type": "stream",
     "text": [
      "[[0.12992261 0.19442824 0.26306636 0.32181229 0.35593548 0.35593548\n",
      "  0.32181229 0.26306636 0.19442824 0.12992261]\n",
      " [0.19442824 0.29096046 0.39367691 0.48158977 0.53265487 0.53265487\n",
      "  0.48158977 0.39367691 0.29096046 0.19442824]\n",
      " [0.26306636 0.39367691 0.53265487 0.65160321 0.7206956  0.7206956\n",
      "  0.65160321 0.53265487 0.39367691 0.26306636]\n",
      " [0.32181229 0.48158977 0.65160321 0.79711416 0.88163573 0.88163573\n",
      "  0.79711416 0.65160321 0.48158977 0.32181229]\n",
      " [0.35593548 0.53265487 0.7206956  0.88163573 0.97511949 0.97511949\n",
      "  0.88163573 0.7206956  0.53265487 0.35593548]\n",
      " [0.35593548 0.53265487 0.7206956  0.88163573 0.97511949 0.97511949\n",
      "  0.88163573 0.7206956  0.53265487 0.35593548]\n",
      " [0.32181229 0.48158977 0.65160321 0.79711416 0.88163573 0.88163573\n",
      "  0.79711416 0.65160321 0.48158977 0.32181229]\n",
      " [0.26306636 0.39367691 0.53265487 0.65160321 0.7206956  0.7206956\n",
      "  0.65160321 0.53265487 0.39367691 0.26306636]\n",
      " [0.19442824 0.29096046 0.39367691 0.48158977 0.53265487 0.53265487\n",
      "  0.48158977 0.39367691 0.29096046 0.19442824]\n",
      " [0.12992261 0.19442824 0.26306636 0.32181229 0.35593548 0.35593548\n",
      "  0.32181229 0.26306636 0.19442824 0.12992261]]\n"
     ]
    }
   ],
   "source": [
    "x, y = np.meshgrid(np.linspace(-1,1,10), np.linspace(-1,1,10))\n",
    "d = np.hypot(x, y)\n",
    "sigma, mu = 0.7, 0.0 #дисперсия, МО\n",
    "g = np.exp(-((d - mu) ** 2 / (2.0 * sigma ** 2))) #распределение Гаусса\n",
    "print(g)"
   ]
  },
  {
   "cell_type": "markdown",
   "metadata": {},
   "source": [
    "Случайно расположить p элементов в 2D массив"
   ]
  },
  {
   "cell_type": "code",
   "execution_count": 25,
   "metadata": {},
   "outputs": [
    {
     "name": "stdout",
     "output_type": "stream",
     "text": [
      "[[0. 0. 0. 0. 0.]\n",
      " [0. 1. 0. 0. 0.]\n",
      " [1. 0. 0. 0. 0.]\n",
      " [0. 0. 0. 0. 0.]\n",
      " [0. 0. 0. 0. 0.]]\n"
     ]
    }
   ],
   "source": [
    "n = 5\n",
    "p = 2\n",
    "mas = np.zeros((n,n))\n",
    "np.put(mas, np.random.choice(range(n*n), p, replace=False), 1)\n",
    "#число, кол-во эл-ов, без повтора\n",
    "#случайная выборка из значений заданного массива\n",
    "print(mas)"
   ]
  },
  {
   "cell_type": "markdown",
   "metadata": {},
   "source": [
    "Отнять среднее из каждой строки в матрице"
   ]
  },
  {
   "cell_type": "code",
   "execution_count": 28,
   "metadata": {},
   "outputs": [
    {
     "name": "stdout",
     "output_type": "stream",
     "text": [
      "[[0.35669195 0.55945978]\n",
      " [0.6822206  0.40567254]]\n",
      "[[-0.10138392  0.10138392]\n",
      " [ 0.13827403 -0.13827403]]\n"
     ]
    }
   ],
   "source": [
    "x = np.random.rand(2, 2) #случайно заполняем 0..1\n",
    "y = x - x.mean(axis=1, keepdims=True) #результат - массив с размером исходного массива\n",
    "print(x)\n",
    "print(y)"
   ]
  },
  {
   "cell_type": "markdown",
   "metadata": {},
   "source": [
    "Отсортировать матрицу по n-ому столбцу"
   ]
  },
  {
   "cell_type": "code",
   "execution_count": 33,
   "metadata": {},
   "outputs": [
    {
     "name": "stdout",
     "output_type": "stream",
     "text": [
      "[[0 3 3]\n",
      " [1 0 1]\n",
      " [8 2 5]]\n",
      "[[1 0 1]\n",
      " [0 3 3]\n",
      " [8 2 5]]\n"
     ]
    }
   ],
   "source": [
    "mas = np.random.randint(0,10,(3,3))\n",
    "n = 2 \n",
    "print(mas)\n",
    "print(mas[mas[:,n].argsort()])#сортировка элементов массива вдоль указанной оси "
   ]
  },
  {
   "cell_type": "markdown",
   "metadata": {},
   "source": [
    "Определить, есть ли в 2D массиве нулевые столбцы"
   ]
  },
  {
   "cell_type": "code",
   "execution_count": 24,
   "metadata": {},
   "outputs": [
    {
     "name": "stdout",
     "output_type": "stream",
     "text": [
      "[[0 1 1 1 0 0 1 1 0 1]\n",
      " [0 1 2 1 2 1 2 2 0 0]\n",
      " [0 1 2 0 0 2 0 2 1 1]]\n",
      "True\n"
     ]
    }
   ],
   "source": [
    "mas = np.random.randint(0,3,(3,10))\n",
    "print(mas)\n",
    "print((~mas.any(axis=0)).any()) #проверяем столбцы матрицы"
   ]
  },
  {
   "cell_type": "markdown",
   "metadata": {},
   "source": [
    "Дан массив, добавить 1 к каждому элементу с индексом, заданным в другом массиве (осторожно с повторами)"
   ]
  },
  {
   "cell_type": "code",
   "execution_count": 48,
   "metadata": {},
   "outputs": [
    {
     "name": "stdout",
     "output_type": "stream",
     "text": [
      "[1 5 2 1 9 7 1 4 0 4 7 2 5 3 7 3 4 7 6 8]\n",
      "[2. 4. 3. 3. 4. 3. 2. 5. 2. 2.]\n"
     ]
    }
   ],
   "source": [
    "mas = np.ones(10)\n",
    "inc = np.random.randint(0,len(mas),20)\n",
    "mas += np.bincount(inc, minlength=len(mas)) \n",
    "#возвращает число вхождений\n",
    "#последовательность целых положительных чисел, минимальное значение длины выходного массива\n",
    "print(inc)\n",
    "print(mas)"
   ]
  },
  {
   "cell_type": "markdown",
   "metadata": {},
   "source": [
    "Дан массив (w,h,3) (картинка) dtype=ubyte, посчитать количество различных цветов"
   ]
  },
  {
   "cell_type": "code",
   "execution_count": 10,
   "metadata": {},
   "outputs": [
    {
     "name": "stdout",
     "output_type": "stream",
     "text": [
      "4\n"
     ]
    }
   ],
   "source": [
    "w,h = 16,16\n",
    "i = np.random.randint(0, 2, (h,w,3)).astype(np.ubyte)\n",
    "f = i[...,0] * 256 * 256 + i[...,1] * 256 + i[...,2]\n",
    "n = len(np.unique(f))\n",
    "print(n)"
   ]
  },
  {
   "cell_type": "markdown",
   "metadata": {},
   "source": [
    "Дан четырехмерный массив, посчитать сумму по последним двум осям"
   ]
  },
  {
   "cell_type": "code",
   "execution_count": 56,
   "metadata": {},
   "outputs": [
    {
     "name": "stdout",
     "output_type": "stream",
     "text": [
      "[[41 46 41 54]\n",
      " [46 29 60 51]\n",
      " [57 58 49 52]]\n"
     ]
    }
   ],
   "source": [
    "mas = np.random.randint(0,10, (3,4,3,4))\n",
    "sum_ = mas.reshape(mas.shape[:-2] + (-1,)).sum(axis=-1)\n",
    "print(sum_)"
   ]
  },
  {
   "cell_type": "markdown",
   "metadata": {},
   "source": [
    "Найти диагональные элементы произведения матриц"
   ]
  },
  {
   "cell_type": "code",
   "execution_count": 62,
   "metadata": {},
   "outputs": [
    {
     "name": "stdout",
     "output_type": "stream",
     "text": [
      "[[2 5 7]\n",
      " [8 5 8]\n",
      " [6 5 7]]\n",
      "[[1 9 2]\n",
      " [7 4 9]\n",
      " [2 5 6]]\n",
      "[ 51 132  99]\n"
     ]
    }
   ],
   "source": [
    "mas_1 = np.random.randint(0,10,(3,3))\n",
    "mas_2 = np.random.randint(0,10,(3,3))\n",
    "print(mas_1)\n",
    "print(mas_2)\n",
    "print(np.diag(np.dot(mas_1, mas_2)))"
   ]
  }
 ],
 "metadata": {
  "kernelspec": {
   "display_name": "Python 3",
   "language": "python",
   "name": "python3"
  },
  "language_info": {
   "codemirror_mode": {
    "name": "ipython",
    "version": 3
   },
   "file_extension": ".py",
   "mimetype": "text/x-python",
   "name": "python",
   "nbconvert_exporter": "python",
   "pygments_lexer": "ipython3",
   "version": "3.8.3"
  }
 },
 "nbformat": 4,
 "nbformat_minor": 4
}
