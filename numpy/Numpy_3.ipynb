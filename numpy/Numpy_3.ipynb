{
 "cells": [
  {
   "cell_type": "markdown",
   "metadata": {},
   "source": [
    " ### Московский Авиационый Институт \n",
    " #### (НАЦИОНАЛЬНЫЙ ИССЛЕДОВАТЕЛЬСКИЙ УНИВЕРСИТЕТ)\n",
    " #### Лабороторная работа №3\n",
    " #### По дисциплине \"Программирование на Python\"\n",
    " #### На тему \"Работа с библиотекой NumPy\"\n",
    " #### Выполнил студент группы Т12о-101М: Трусова В.Л.\n",
    " #### Работу принял: Поповкин А.В.\n",
    " ##### Дата: 21.11.2020\n",
    " ##### Москва, 2020г."
   ]
  },
  {
   "cell_type": "code",
   "execution_count": 34,
   "metadata": {},
   "outputs": [],
   "source": [
    "import numpy as np"
   ]
  },
  {
   "cell_type": "markdown",
   "metadata": {},
   "source": [
    "Дан вектор [1, 2, 3, 4, 5], построить новый вектор с тремя нулями между каждым значением"
   ]
  },
  {
   "cell_type": "code",
   "execution_count": 6,
   "metadata": {},
   "outputs": [
    {
     "name": "stdout",
     "output_type": "stream",
     "text": [
      "[1. 0. 0. 0. 2. 0. 0. 0. 3. 0. 0. 0. 4. 0. 0. 0. 5.]\n"
     ]
    }
   ],
   "source": [
    "mas_num = np.array([1,2,3,4,5])\n",
    "z_num = 3\n",
    "mas = np.zeros(len(mas_num) + (len(mas_num)-1)*(z_num)) #массив 0-ей\n",
    "mas[::z_num+1] = mas_num #добавляем значения из исходного\n",
    "print(mas)"
   ]
  },
  {
   "cell_type": "markdown",
   "metadata": {},
   "source": [
    "Поменять 2 строки в матрице"
   ]
  },
  {
   "cell_type": "code",
   "execution_count": 4,
   "metadata": {},
   "outputs": [
    {
     "name": "stdout",
     "output_type": "stream",
     "text": [
      "[[ 0  1  2  3  4]\n",
      " [ 5  6  7  8  9]\n",
      " [10 11 12 13 14]\n",
      " [15 16 17 18 19]\n",
      " [20 21 22 23 24]]\n",
      "[[ 5  6  7  8  9]\n",
      " [ 5  6  7  8  9]\n",
      " [10 11 12 13 14]\n",
      " [ 0  1  2  3  4]\n",
      " [20 21 22 23 24]]\n"
     ]
    }
   ],
   "source": [
    "mas = np.arange(25).reshape(5,5)\n",
    "print(mas)\n",
    "mas[[0,3]] = mas[[1,0]]\n",
    "print(mas)"
   ]
  },
  {
   "cell_type": "markdown",
   "metadata": {},
   "source": [
    "Рассмотрим набор из 10 троек, описывающих 10 треугольников (с общими вершинами), найти \n",
    "множество уникальных отрезков, составляющих все треугольники"
   ]
  },
  {
   "cell_type": "code",
   "execution_count": 36,
   "metadata": {},
   "outputs": [
    {
     "name": "stdout",
     "output_type": "stream",
     "text": [
      "[(0,  2) (0,  4) (0,  6) (0,  8) (0, 10) (0, 11) (0, 14) (1,  3) (1, 14)\n",
      " (2,  6) (2,  8) (2,  9) (2, 11) (2, 13) (3,  6) (3,  9) (3, 14) (4, 14)\n",
      " (6,  6) (6, 10) (6, 11) (6, 13) (9, 13) (9, 14)]\n"
     ]
    }
   ],
   "source": [
    "faces = np.random.randint(0,15,(10,3))\n",
    "F = np.roll(faces.repeat(2,axis=1),-1,axis=1)\n",
    "F = F.reshape(len(F)*3,2)\n",
    "F = np.sort(F,axis=1)\n",
    "G = F.view( dtype=[('p0',F.dtype),('p1',F.dtype)] )\n",
    "G = np.unique(G)\n",
    "print(G)"
   ]
  },
  {
   "cell_type": "markdown",
   "metadata": {},
   "source": [
    "Дан массив C; создать массив A, что np.bincount(A) == C"
   ]
  },
  {
   "cell_type": "code",
   "execution_count": 10,
   "metadata": {},
   "outputs": [
    {
     "name": "stdout",
     "output_type": "stream",
     "text": [
      "True\n",
      "[1 1 2 3 4 4 6]\n",
      "[0 2 1 1 2 0 1]\n"
     ]
    }
   ],
   "source": [
    "C = np.bincount([1,1,2,3,4,4,6])\n",
    "A = np.repeat(np.arange(len(C)), C)\n",
    "print((np.bincount(A) == C).any())\n",
    "print(A)\n",
    "print(C)"
   ]
  },
  {
   "cell_type": "markdown",
   "metadata": {},
   "source": [
    "Посчитать среднее, используя плавающее окно"
   ]
  },
  {
   "cell_type": "code",
   "execution_count": 31,
   "metadata": {},
   "outputs": [
    {
     "name": "stdout",
     "output_type": "stream",
     "text": [
      "[0.5 1.5 2.5 3.5]\n"
     ]
    }
   ],
   "source": [
    "def moving_average(a, n=3):\n",
    "    ret = np.cumsum(a, dtype=float)\n",
    "    ret[n:] = ret[n:] - ret[:-n]\n",
    "    return ret[n - 1:] / n\n",
    "\n",
    "print(moving_average(np.arange(5), 2))"
   ]
  },
  {
   "cell_type": "markdown",
   "metadata": {},
   "source": [
    "Дан вектор Z, построить матрицу, первая строка которой (Z[0],Z[1],Z[2]), каждая последующая \n",
    "сдвинута на 1 (последняя (Z[-3],Z[-2],Z[-1]))"
   ]
  },
  {
   "cell_type": "code",
   "execution_count": 23,
   "metadata": {},
   "outputs": [
    {
     "name": "stdout",
     "output_type": "stream",
     "text": [
      "[[0 1 2]\n",
      " [1 2 3]\n",
      " [2 3 4]\n",
      " [3 4 5]\n",
      " [4 5 6]\n",
      " [5 6 7]\n",
      " [6 7 8]\n",
      " [7 8 9]]\n"
     ]
    }
   ],
   "source": [
    "from numpy.lib import stride_tricks\n",
    "\n",
    "def rolling(a, window):\n",
    "    shape = (a.size - window + 1, window)\n",
    "    strides = (a.itemsize, a.itemsize)\n",
    "    return stride_tricks.as_strided(a, shape=shape, strides=strides)\n",
    "mas = rolling(np.arange(10), 3)\n",
    "print(mas)"
   ]
  },
  {
   "cell_type": "markdown",
   "metadata": {},
   "source": [
    "Инвертировать булево значение, или поменять знак у числового массива без создания нового"
   ]
  },
  {
   "cell_type": "code",
   "execution_count": 60,
   "metadata": {},
   "outputs": [
    {
     "name": "stdout",
     "output_type": "stream",
     "text": [
      "[0 0 0 0 0 0 0 0 0 0]\n",
      "[1 1 1 1 1 1 1 1 1 1]\n",
      "[-0.91209463  0.90102978  0.45082633  0.9155636  -0.43846891  0.39899843\n",
      " -0.17445358 -0.73145796 -0.77008534  0.5183664 ]\n",
      "[ 0.91209463 -0.90102978 -0.45082633 -0.9155636   0.43846891 -0.39899843\n",
      "  0.17445358  0.73145796  0.77008534 -0.5183664 ]\n"
     ]
    }
   ],
   "source": [
    "log_mas = np.random.randint(0,1,10)\n",
    "print(log_mas)\n",
    "print(np.logical_not(log_mas, out=log_mas))\n",
    "\n",
    "num_mas = np.random.uniform(-1.0,1.0,10)\n",
    "print(num_mas)\n",
    "print(np.negative(num_mas, out=num_mas))"
   ]
  },
  {
   "cell_type": "markdown",
   "metadata": {},
   "source": [
    "Посчитать ранг матрицы"
   ]
  },
  {
   "cell_type": "code",
   "execution_count": 36,
   "metadata": {},
   "outputs": [
    {
     "name": "stdout",
     "output_type": "stream",
     "text": [
      "[[4.95538377 3.53414387 4.94552021]\n",
      " [2.52605671 3.1759111  0.23118649]\n",
      " [3.11123708 4.7934422  0.72356378]]\n",
      "3\n"
     ]
    }
   ],
   "source": [
    "mas = np.random.uniform(0,5,(3,3))\n",
    "print(mas)\n",
    "print(np.linalg.matrix_rank(mas))"
   ]
  },
  {
   "cell_type": "markdown",
   "metadata": {},
   "source": [
    "Найти наиболее частое значение в массиве"
   ]
  },
  {
   "cell_type": "code",
   "execution_count": 41,
   "metadata": {},
   "outputs": [
    {
     "name": "stdout",
     "output_type": "stream",
     "text": [
      "4 2 3 0 4 3 3 4 0 4 3 0 2 2 0\n",
      "0\n"
     ]
    }
   ],
   "source": [
    "mas = np.random.randint(0,5,15)\n",
    "print(*mas)\n",
    "print(np.bincount(mas).argmax())"
   ]
  },
  {
   "cell_type": "markdown",
   "metadata": {},
   "source": [
    "Извлечь все смежные 3x3 блоки из 10x10 матрицы"
   ]
  },
  {
   "cell_type": "code",
   "execution_count": 24,
   "metadata": {},
   "outputs": [
    {
     "name": "stdout",
     "output_type": "stream",
     "text": [
      "[[[[4 1 2]\n",
      "   [0 3 4]\n",
      "   [1 3 2]]\n",
      "\n",
      "  [[1 2 1]\n",
      "   [3 4 2]\n",
      "   [3 2 0]]\n",
      "\n",
      "  [[2 1 1]\n",
      "   [4 2 4]\n",
      "   [2 0 2]]\n",
      "\n",
      "  [[1 1 4]\n",
      "   [2 4 4]\n",
      "   [0 2 3]]\n",
      "\n",
      "  [[1 4 1]\n",
      "   [4 4 2]\n",
      "   [2 3 0]]\n",
      "\n",
      "  [[4 1 0]\n",
      "   [4 2 2]\n",
      "   [3 0 1]]\n",
      "\n",
      "  [[1 0 0]\n",
      "   [2 2 4]\n",
      "   [0 1 3]]\n",
      "\n",
      "  [[0 0 2]\n",
      "   [2 4 1]\n",
      "   [1 3 1]]]\n",
      "\n",
      "\n",
      " [[[0 3 4]\n",
      "   [1 3 2]\n",
      "   [0 1 1]]\n",
      "\n",
      "  [[3 4 2]\n",
      "   [3 2 0]\n",
      "   [1 1 4]]\n",
      "\n",
      "  [[4 2 4]\n",
      "   [2 0 2]\n",
      "   [1 4 2]]\n",
      "\n",
      "  [[2 4 4]\n",
      "   [0 2 3]\n",
      "   [4 2 2]]\n",
      "\n",
      "  [[4 4 2]\n",
      "   [2 3 0]\n",
      "   [2 2 2]]\n",
      "\n",
      "  [[4 2 2]\n",
      "   [3 0 1]\n",
      "   [2 2 0]]\n",
      "\n",
      "  [[2 2 4]\n",
      "   [0 1 3]\n",
      "   [2 0 3]]\n",
      "\n",
      "  [[2 4 1]\n",
      "   [1 3 1]\n",
      "   [0 3 3]]]\n",
      "\n",
      "\n",
      " [[[1 3 2]\n",
      "   [0 1 1]\n",
      "   [2 2 3]]\n",
      "\n",
      "  [[3 2 0]\n",
      "   [1 1 4]\n",
      "   [2 3 3]]\n",
      "\n",
      "  [[2 0 2]\n",
      "   [1 4 2]\n",
      "   [3 3 0]]\n",
      "\n",
      "  [[0 2 3]\n",
      "   [4 2 2]\n",
      "   [3 0 1]]\n",
      "\n",
      "  [[2 3 0]\n",
      "   [2 2 2]\n",
      "   [0 1 3]]\n",
      "\n",
      "  [[3 0 1]\n",
      "   [2 2 0]\n",
      "   [1 3 0]]\n",
      "\n",
      "  [[0 1 3]\n",
      "   [2 0 3]\n",
      "   [3 0 3]]\n",
      "\n",
      "  [[1 3 1]\n",
      "   [0 3 3]\n",
      "   [0 3 2]]]\n",
      "\n",
      "\n",
      " [[[0 1 1]\n",
      "   [2 2 3]\n",
      "   [3 4 2]]\n",
      "\n",
      "  [[1 1 4]\n",
      "   [2 3 3]\n",
      "   [4 2 2]]\n",
      "\n",
      "  [[1 4 2]\n",
      "   [3 3 0]\n",
      "   [2 2 0]]\n",
      "\n",
      "  [[4 2 2]\n",
      "   [3 0 1]\n",
      "   [2 0 3]]\n",
      "\n",
      "  [[2 2 2]\n",
      "   [0 1 3]\n",
      "   [0 3 4]]\n",
      "\n",
      "  [[2 2 0]\n",
      "   [1 3 0]\n",
      "   [3 4 3]]\n",
      "\n",
      "  [[2 0 3]\n",
      "   [3 0 3]\n",
      "   [4 3 3]]\n",
      "\n",
      "  [[0 3 3]\n",
      "   [0 3 2]\n",
      "   [3 3 0]]]\n",
      "\n",
      "\n",
      " [[[2 2 3]\n",
      "   [3 4 2]\n",
      "   [2 3 4]]\n",
      "\n",
      "  [[2 3 3]\n",
      "   [4 2 2]\n",
      "   [3 4 4]]\n",
      "\n",
      "  [[3 3 0]\n",
      "   [2 2 0]\n",
      "   [4 4 1]]\n",
      "\n",
      "  [[3 0 1]\n",
      "   [2 0 3]\n",
      "   [4 1 4]]\n",
      "\n",
      "  [[0 1 3]\n",
      "   [0 3 4]\n",
      "   [1 4 4]]\n",
      "\n",
      "  [[1 3 0]\n",
      "   [3 4 3]\n",
      "   [4 4 0]]\n",
      "\n",
      "  [[3 0 3]\n",
      "   [4 3 3]\n",
      "   [4 0 4]]\n",
      "\n",
      "  [[0 3 2]\n",
      "   [3 3 0]\n",
      "   [0 4 2]]]\n",
      "\n",
      "\n",
      " [[[3 4 2]\n",
      "   [2 3 4]\n",
      "   [4 3 0]]\n",
      "\n",
      "  [[4 2 2]\n",
      "   [3 4 4]\n",
      "   [3 0 1]]\n",
      "\n",
      "  [[2 2 0]\n",
      "   [4 4 1]\n",
      "   [0 1 1]]\n",
      "\n",
      "  [[2 0 3]\n",
      "   [4 1 4]\n",
      "   [1 1 3]]\n",
      "\n",
      "  [[0 3 4]\n",
      "   [1 4 4]\n",
      "   [1 3 0]]\n",
      "\n",
      "  [[3 4 3]\n",
      "   [4 4 0]\n",
      "   [3 0 1]]\n",
      "\n",
      "  [[4 3 3]\n",
      "   [4 0 4]\n",
      "   [0 1 1]]\n",
      "\n",
      "  [[3 3 0]\n",
      "   [0 4 2]\n",
      "   [1 1 2]]]\n",
      "\n",
      "\n",
      " [[[2 3 4]\n",
      "   [4 3 0]\n",
      "   [0 3 2]]\n",
      "\n",
      "  [[3 4 4]\n",
      "   [3 0 1]\n",
      "   [3 2 0]]\n",
      "\n",
      "  [[4 4 1]\n",
      "   [0 1 1]\n",
      "   [2 0 4]]\n",
      "\n",
      "  [[4 1 4]\n",
      "   [1 1 3]\n",
      "   [0 4 2]]\n",
      "\n",
      "  [[1 4 4]\n",
      "   [1 3 0]\n",
      "   [4 2 2]]\n",
      "\n",
      "  [[4 4 0]\n",
      "   [3 0 1]\n",
      "   [2 2 1]]\n",
      "\n",
      "  [[4 0 4]\n",
      "   [0 1 1]\n",
      "   [2 1 2]]\n",
      "\n",
      "  [[0 4 2]\n",
      "   [1 1 2]\n",
      "   [1 2 0]]]\n",
      "\n",
      "\n",
      " [[[4 3 0]\n",
      "   [0 3 2]\n",
      "   [3 3 1]]\n",
      "\n",
      "  [[3 0 1]\n",
      "   [3 2 0]\n",
      "   [3 1 4]]\n",
      "\n",
      "  [[0 1 1]\n",
      "   [2 0 4]\n",
      "   [1 4 3]]\n",
      "\n",
      "  [[1 1 3]\n",
      "   [0 4 2]\n",
      "   [4 3 3]]\n",
      "\n",
      "  [[1 3 0]\n",
      "   [4 2 2]\n",
      "   [3 3 0]]\n",
      "\n",
      "  [[3 0 1]\n",
      "   [2 2 1]\n",
      "   [3 0 4]]\n",
      "\n",
      "  [[0 1 1]\n",
      "   [2 1 2]\n",
      "   [0 4 1]]\n",
      "\n",
      "  [[1 1 2]\n",
      "   [1 2 0]\n",
      "   [4 1 4]]]]\n"
     ]
    }
   ],
   "source": [
    "from numpy.lib import stride_tricks\n",
    "mas = np.random.randint(0,5,(10,10))\n",
    "n = 3\n",
    "i = 1 + (mas.shape[0] - n)\n",
    "j = 1 + (mas.shape[1] - n)\n",
    "res = stride_tricks.as_strided(mas, shape=(i, j, n, n), strides=mas.strides + mas.strides)\n",
    "#возвращает представление массива с указанной формой и смещением байтов\n",
    "print(res)"
   ]
  },
  {
   "cell_type": "markdown",
   "metadata": {},
   "source": [
    "Рассмотрим множество матриц (n,n) и множество из p векторов (n,1). \n",
    "Посчитать сумму p произведений матриц (результат имеет размерность (n,1))"
   ]
  },
  {
   "cell_type": "code",
   "execution_count": 46,
   "metadata": {},
   "outputs": [
    {
     "name": "stdout",
     "output_type": "stream",
     "text": [
      "[[200.]\n",
      " [200.]\n",
      " [200.]\n",
      " [200.]\n",
      " [200.]\n",
      " [200.]\n",
      " [200.]\n",
      " [200.]\n",
      " [200.]\n",
      " [200.]\n",
      " [200.]\n",
      " [200.]\n",
      " [200.]\n",
      " [200.]\n",
      " [200.]\n",
      " [200.]\n",
      " [200.]\n",
      " [200.]\n",
      " [200.]\n",
      " [200.]]\n"
     ]
    }
   ],
   "source": [
    "p, n = 10, 20\n",
    "mat = np.ones((p,n,n))\n",
    "vec = np.ones((p,n,1))\n",
    "res = np.tensordot(mat, vec, axes=[[0, 2], [0, 1]])\n",
    "print(res)"
   ]
  },
  {
   "cell_type": "markdown",
   "metadata": {},
   "source": [
    "Дан массив 16x16, посчитать сумму по блокам 4x4"
   ]
  },
  {
   "cell_type": "code",
   "execution_count": 17,
   "metadata": {},
   "outputs": [
    {
     "name": "stdout",
     "output_type": "stream",
     "text": [
      "[[16. 16. 16. 16.]\n",
      " [16. 16. 16. 16.]\n",
      " [16. 16. 16. 16.]\n",
      " [16. 16. 16. 16.]]\n"
     ]
    }
   ],
   "source": [
    "mas = np.ones((16,16))\n",
    "k = 4\n",
    "sum_ = np.add.reduceat(np.add.reduceat(mas, np.arange(0, mas.shape[0], k), axis=0),\n",
    "                                       np.arange(0, mas.shape[1], k), axis=1)\n",
    "#reduceat - получениe суммирования столбцов массива\n",
    "print(sum_)"
   ]
  },
  {
   "cell_type": "markdown",
   "metadata": {},
   "source": [
    "Найти n наибольших значений в массиве"
   ]
  },
  {
   "cell_type": "code",
   "execution_count": 50,
   "metadata": {},
   "outputs": [
    {
     "name": "stdout",
     "output_type": "stream",
     "text": [
      "[9998 9997 9999 9996 9995]\n"
     ]
    }
   ],
   "source": [
    "mas = np.arange(10000)\n",
    "np.random.shuffle(mas)\n",
    "n = 5\n",
    "\n",
    "print (mas[np.argpartition(-mas,n)[:n]]) #возвращает массив индексов элементов"
   ]
  },
  {
   "cell_type": "markdown",
   "metadata": {},
   "source": [
    "Построить прямое произведение массивов (все комбинации с каждым элементом)"
   ]
  },
  {
   "cell_type": "code",
   "execution_count": 52,
   "metadata": {},
   "outputs": [
    {
     "name": "stdout",
     "output_type": "stream",
     "text": [
      "[[1 4]\n",
      " [1 5]\n",
      " [2 4]\n",
      " [2 5]\n",
      " [3 4]\n",
      " [3 5]]\n"
     ]
    }
   ],
   "source": [
    "def cartesian(arrays):\n",
    "    arrays = [np.asarray(a) for a in arrays] #преобразует последовательность в массив\n",
    "    shape = map(len, arrays)\n",
    "\n",
    "    ix = np.indices(shape, dtype=int)#возвращает координатную сетку\n",
    "    ix = ix.reshape(len(arrays), -1).T\n",
    "\n",
    "    for n, arr in enumerate(arrays):\n",
    "        ix[:, n] = arrays[n][ix[:, n]]\n",
    "\n",
    "    return ix\n",
    "\n",
    "print(cartesian(([1, 2, 3], [4, 5])))"
   ]
  },
  {
   "cell_type": "markdown",
   "metadata": {},
   "source": [
    "Даны 2 массива A (8x3) и B (2x2). \n",
    "Найти строки в A, которые содержат элементы из каждой строки в B, независимо от порядка \n",
    "элементов в B"
   ]
  },
  {
   "cell_type": "code",
   "execution_count": 33,
   "metadata": {},
   "outputs": [
    {
     "name": "stdout",
     "output_type": "stream",
     "text": [
      "[[3 2 1]\n",
      " [2 4 2]\n",
      " [0 1 2]\n",
      " [4 0 4]\n",
      " [1 2 1]\n",
      " [2 3 4]\n",
      " [1 4 3]\n",
      " [4 0 0]]\n",
      "[[2 1]\n",
      " [1 4]]\n",
      "[0 1 2 3 4 5 6]\n"
     ]
    }
   ],
   "source": [
    "A = np.random.randint(0,5,(8,3))\n",
    "B = np.random.randint(0,5,(2,2))\n",
    "print(A)\n",
    "print(B)\n",
    "C = (A[..., np.newaxis, np.newaxis] == B)\n",
    "rows = (C.sum(axis=(1,2,3)) >= B.shape[1]).nonzero()[0]\n",
    "print(rows)"
   ]
  },
  {
   "cell_type": "markdown",
   "metadata": {},
   "source": [
    "Дана 10x3 матрица, найти строки из неравных значений (например [2,2,3])"
   ]
  },
  {
   "cell_type": "code",
   "execution_count": 66,
   "metadata": {},
   "outputs": [
    {
     "name": "stdout",
     "output_type": "stream",
     "text": [
      "[[1 0 1]\n",
      " [0 0 1]\n",
      " [0 0 1]\n",
      " [0 0 1]\n",
      " [0 0 0]\n",
      " [1 1 1]\n",
      " [1 0 0]\n",
      " [0 1 0]\n",
      " [1 0 1]\n",
      " [1 0 0]]\n",
      "[[1 0 1]\n",
      " [0 0 1]\n",
      " [0 0 1]\n",
      " [0 0 1]\n",
      " [1 0 0]\n",
      " [0 1 0]\n",
      " [1 0 1]\n",
      " [1 0 0]]\n"
     ]
    }
   ],
   "source": [
    "mas = np.random.randint(0,2,(10,3))\n",
    "eq = np.logical_and.reduce(mas[:,1:] == mas[:,:-1], axis=1)\n",
    "unique = mas[~eq]\n",
    "print(mas)\n",
    "print(unique)"
   ]
  },
  {
   "cell_type": "markdown",
   "metadata": {},
   "source": [
    "Преобразовать вектор чисел в матрицу бинарных представлений"
   ]
  },
  {
   "cell_type": "code",
   "execution_count": 67,
   "metadata": {},
   "outputs": [
    {
     "name": "stdout",
     "output_type": "stream",
     "text": [
      "[[0 0 0 0 0 0 0 0]\n",
      " [0 0 0 0 0 0 0 1]\n",
      " [0 0 0 0 0 0 1 0]\n",
      " [0 0 0 0 0 0 1 1]\n",
      " [0 0 0 0 1 1 1 1]\n",
      " [0 0 0 1 0 0 0 0]\n",
      " [0 0 1 0 0 0 0 0]\n",
      " [0 1 0 0 0 0 0 0]\n",
      " [1 0 0 0 0 0 0 0]]\n"
     ]
    }
   ],
   "source": [
    "mas = np.array([0, 1, 2, 3, 15, 16, 32, 64, 128], dtype=np.uint8)\n",
    "print(np.unpackbits(mas[:, np.newaxis], axis=1))"
   ]
  },
  {
   "cell_type": "markdown",
   "metadata": {},
   "source": [
    "Дан двумерный массив. Найти все различные строки"
   ]
  },
  {
   "cell_type": "code",
   "execution_count": 15,
   "metadata": {},
   "outputs": [
    {
     "name": "stdout",
     "output_type": "stream",
     "text": [
      "[[0 0 0]\n",
      " [0 0 0]\n",
      " [0 1 1]\n",
      " [1 1 0]\n",
      " [1 1 0]\n",
      " [1 0 1]]\n",
      "[[0 0 0]\n",
      " [0 1 1]\n",
      " [1 0 1]\n",
      " [1 1 0]]\n"
     ]
    }
   ],
   "source": [
    "mas = np.random.randint(0, 2, (6,3))\n",
    "print(mas)\n",
    "T = np.ascontiguousarray(mas).view(np.dtype((np.void, mas.dtype.itemsize * mas.shape[1])))\n",
    "_, idx = np.unique(T, return_index=True) #находит уникальные элементы массива и их индексы\n",
    "u_mas = mas[idx]\n",
    "print(u_mas)"
   ]
  },
  {
   "cell_type": "markdown",
   "metadata": {},
   "source": [
    "Даны векторы A и B, написать einsum эквиваленты функций inner, outer, sum и mul"
   ]
  },
  {
   "cell_type": "code",
   "execution_count": 87,
   "metadata": {},
   "outputs": [
    {
     "name": "stdout",
     "output_type": "stream",
     "text": [
      "A: [0 1 2 3 4 5 6 7 8 9]\n",
      "B: [0 1 2 3 4 5 6 7 8 9]\n",
      "sum(A): 45\n",
      "A * B:  [ 0  1  4  9 16 25 36 49 64 81]\n",
      "inner(A, B):  285\n",
      "outer(A, B): \n",
      " [[ 0  0  0  0  0  0  0  0  0  0]\n",
      " [ 0  1  2  3  4  5  6  7  8  9]\n",
      " [ 0  2  4  6  8 10 12 14 16 18]\n",
      " [ 0  3  6  9 12 15 18 21 24 27]\n",
      " [ 0  4  8 12 16 20 24 28 32 36]\n",
      " [ 0  5 10 15 20 25 30 35 40 45]\n",
      " [ 0  6 12 18 24 30 36 42 48 54]\n",
      " [ 0  7 14 21 28 35 42 49 56 63]\n",
      " [ 0  8 16 24 32 40 48 56 64 72]\n",
      " [ 0  9 18 27 36 45 54 63 72 81]]\n"
     ]
    }
   ],
   "source": [
    "a = np.arange(10)\n",
    "b = np.arange(10)\n",
    "\n",
    "print('A:', a)\n",
    "print('B:', b)\n",
    "print('sum(A):', np.einsum('i->', a)) #применяет правила суммирования Эйнштейна\n",
    "print('A * B: ', np.einsum('i,i->i', a, b)) #'i,i->i' - индексы для суммирования\n",
    "print('inner(A, B): ', np.einsum('i,i', a, b))\n",
    "print('outer(A, B): \\n' , np.einsum('i,j', a, b))"
   ]
  }
 ],
 "metadata": {
  "kernelspec": {
   "display_name": "Python 3",
   "language": "python",
   "name": "python3"
  },
  "language_info": {
   "codemirror_mode": {
    "name": "ipython",
    "version": 3
   },
   "file_extension": ".py",
   "mimetype": "text/x-python",
   "name": "python",
   "nbconvert_exporter": "python",
   "pygments_lexer": "ipython3",
   "version": "3.8.3"
  }
 },
 "nbformat": 4,
 "nbformat_minor": 4
}
